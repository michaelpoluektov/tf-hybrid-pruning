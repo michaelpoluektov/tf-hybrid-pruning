{
 "cells": [
  {
   "cell_type": "code",
   "execution_count": 1,
   "id": "f51b01d3",
   "metadata": {},
   "outputs": [],
   "source": [
    "import os\n",
    "\n",
    "os.environ[\"TF_CPP_MIN_LOG_LEVEL\"] = \"3\"\n",
    "import tensorflow as tf\n",
    "import numpy as np\n",
    "import matplotlib.pyplot as plt\n",
    "from model import get_resnet\n",
    "from dataset import get_dataset\n",
    "import tensorflow_probability as tfp\n",
    "from tqdm.notebook import tqdm\n",
    "from tensorflow.keras import mixed_precision\n",
    "from tensorflow.keras.layers import Layer, Conv2D\n",
    "from sparse_conv2d import SparseConv2D\n",
    "from utils import expand_layer, propagate_constants, copy_layer\n",
    "\n",
    "# mixed_precision.set_global_policy(\"mixed_float16\")\n",
    "from tensorflow.keras.utils import register_keras_serializable"
   ]
  },
  {
   "cell_type": "code",
   "execution_count": 2,
   "id": "c3b4553b",
   "metadata": {},
   "outputs": [
    {
     "data": {
      "text/plain": [
       "[PhysicalDevice(name='/physical_device:GPU:0', device_type='GPU')]"
      ]
     },
     "execution_count": 2,
     "metadata": {},
     "output_type": "execute_result"
    }
   ],
   "source": [
    "tf.config.list_physical_devices(\"GPU\")"
   ]
  },
  {
   "cell_type": "code",
   "execution_count": 3,
   "id": "69cca625",
   "metadata": {
    "scrolled": false
   },
   "outputs": [],
   "source": [
    "SIZE = 224\n",
    "base_model, model = get_resnet()\n",
    "test_ds, val_ds = get_dataset(False, SIZE, 1, 16, True)\n",
    "train_ds = get_dataset(True, SIZE, 1, 16, False)"
   ]
  },
  {
   "cell_type": "code",
   "execution_count": 4,
   "id": "b76d7197",
   "metadata": {},
   "outputs": [
    {
     "data": {
      "text/plain": [
       "23587712"
      ]
     },
     "execution_count": 4,
     "metadata": {},
     "output_type": "execute_result"
    }
   ],
   "source": [
    "base_model.count_params()"
   ]
  },
  {
   "cell_type": "code",
   "execution_count": 5,
   "id": "2118ee98",
   "metadata": {},
   "outputs": [],
   "source": [
    "def test_propagate(layer):\n",
    "    in_shape = (1,) + layer.input_shape[1:]\n",
    "    csts = tf.random.uniform(in_shape, dtype=tf.float16)\n",
    "    mask = tf.cast(tf.random.uniform(in_shape, minval=0, maxval=1) > 0.8, tf.float16)\n",
    "    prop = csts * mask\n",
    "    inputs1 = [tf.random.uniform(in_shape, dtype=tf.float16) for _ in range(10)]\n",
    "    inputs2 = [inp + prop for inp in inputs1]\n",
    "    next_layer = layer.outbound_nodes[0].outbound_layer\n",
    "    model2 = tf.keras.Model(inputs=layer.input, outputs=next_layer.output)\n",
    "    outputs2 = [model2(inp) for inp in inputs2]\n",
    "    watif = [model2(inp) for inp in inputs1]\n",
    "    propagate_constants(layer, prop)\n",
    "    outputs1 = [model2(inp) for inp in inputs1]\n",
    "    for i, j, k in zip(outputs1, outputs2, watif):\n",
    "        print(f\"AFTER PROP {tf.math.reduce_max(tf.math.abs(i - j)).numpy()}\")\n",
    "        print(f\"BEFORE PROP {tf.math.reduce_max(tf.math.abs(i - k)).numpy()}\")\n",
    "    print(\"TEST PASSED?\")"
   ]
  },
  {
   "cell_type": "code",
   "execution_count": 6,
   "id": "2868f20a",
   "metadata": {},
   "outputs": [],
   "source": [
    "biasl = [\n",
    "    i\n",
    "    for i, l in enumerate(base_model.layers)\n",
    "    if (isinstance(l, Conv2D) and l.bias is not None)\n",
    "]"
   ]
  },
  {
   "cell_type": "code",
   "execution_count": 37,
   "id": "fc0a48c6",
   "metadata": {},
   "outputs": [],
   "source": [
    "ws = base_model.layers[biasl[2]].weights[0][0,0].numpy()\n",
    "U, s, Vt = np.linalg.svd(ws)\n",
    "\n",
    "u = U[:, 0]\n",
    "v = Vt[0, :]\n",
    "\n",
    "uv_outer = np.outer(u, v)"
   ]
  },
  {
   "cell_type": "code",
   "execution_count": 38,
   "id": "a5febb73",
   "metadata": {},
   "outputs": [
    {
     "data": {
      "text/plain": [
       "TensorShape([3, 3, 64, 64])"
      ]
     },
     "execution_count": 38,
     "metadata": {},
     "output_type": "execute_result"
    }
   ],
   "source": [
    "base_model.layers[biasl[2]].weights[0].shape"
   ]
  },
  {
   "cell_type": "code",
   "execution_count": 41,
   "id": "9743a400",
   "metadata": {},
   "outputs": [
    {
     "data": {
      "application/vnd.jupyter.widget-view+json": {
       "model_id": "eec4f11e96ca4f3096181ce283e9f55b",
       "version_major": 2,
       "version_minor": 0
      },
      "text/plain": [
       "  0%|          | 0/3125 [00:00<?, ?it/s]"
      ]
     },
     "metadata": {},
     "output_type": "display_data"
    }
   ],
   "source": [
    "m2 = tf.keras.Model(inputs = base_model.input, outputs = base_model.layers[biasl[6]].output)\n",
    "m1 = tf.keras.Model(inputs = model.input, outputs = model.layers[0].output)\n",
    "m2 = m2(m1.output)\n",
    "ftr_model = tf.keras.Model(m1.input, m2)\n",
    "tot = 8\n",
    "base_sum = tf.zeros(ftr_model.output_shape[1:])\n",
    "for i,_ in tqdm(train_ds):\n",
    "    base_sum += tf.reduce_sum(ftr_model(i), axis=0)\n",
    "    tot += 8"
   ]
  },
  {
   "cell_type": "code",
   "execution_count": 47,
   "id": "841a47d0",
   "metadata": {},
   "outputs": [],
   "source": [
    "tot -= 8"
   ]
  },
  {
   "cell_type": "code",
   "execution_count": 48,
   "id": "b5fbf161",
   "metadata": {},
   "outputs": [
    {
     "data": {
      "application/vnd.jupyter.widget-view+json": {
       "model_id": "373a73292c174eee9f768fdceece825b",
       "version_major": 2,
       "version_minor": 0
      },
      "text/plain": [
       "  0%|          | 0/3125 [00:00<?, ?it/s]"
      ]
     },
     "metadata": {},
     "output_type": "display_data"
    }
   ],
   "source": [
    "mn = base_sum / tot\n",
    "m2 = tf.keras.Model(inputs = base_model.input, outputs = base_model.layers[biasl[6]].output)\n",
    "m1 = tf.keras.Model(inputs = model.input, outputs = model.layers[0].output)\n",
    "m2 = m2(m1.output)\n",
    "ftr_model = tf.keras.Model(m1.input, m2)\n",
    "base_var = tf.zeros(ftr_model.output_shape[1:])\n",
    "for i,_ in tqdm(train_ds):\n",
    "    base_var += (tf.reduce_sum(ftr_model(i), axis=0) - mn)**2"
   ]
  },
  {
   "cell_type": "code",
   "execution_count": 56,
   "id": "aca3e820",
   "metadata": {},
   "outputs": [
    {
     "data": {
      "text/plain": [
       "90.91522"
      ]
     },
     "execution_count": 56,
     "metadata": {},
     "output_type": "execute_result"
    }
   ],
   "source": [
    "np.min(base_var[...,0]**(1/2))"
   ]
  },
  {
   "cell_type": "code",
   "execution_count": 70,
   "id": "f69b088d",
   "metadata": {},
   "outputs": [
    {
     "data": {
      "text/plain": [
       "200656"
      ]
     },
     "execution_count": 70,
     "metadata": {},
     "output_type": "execute_result"
    }
   ],
   "source": [
    "mn.numpy().argmin()\n",
    "#base_var**(1/2)"
   ]
  },
  {
   "cell_type": "code",
   "execution_count": 69,
   "id": "aeeedb76",
   "metadata": {},
   "outputs": [
    {
     "data": {
      "text/plain": [
       "200656"
      ]
     },
     "execution_count": 69,
     "metadata": {},
     "output_type": "execute_result"
    }
   ],
   "source": [
    "base_var.numpy().argmax()"
   ]
  },
  {
   "cell_type": "code",
   "execution_count": 39,
   "id": "362b6134",
   "metadata": {},
   "outputs": [
    {
     "data": {
      "text/plain": [
       "<matplotlib.image.AxesImage at 0x7f329178d750>"
      ]
     },
     "execution_count": 39,
     "metadata": {},
     "output_type": "execute_result"
    },
    {
     "data": {
      "image/png": "[encoded data removed]",
      "text/plain": [
       "<Figure size 480x480 with 1 Axes>"
      ]
     },
     "metadata": {},
     "output_type": "display_data"
    }
   ],
   "source": [
    "plt.matshow(uv_outer)"
   ]
  },
  {
   "cell_type": "code",
   "execution_count": 28,
   "id": "e63a26b6",
   "metadata": {},
   "outputs": [
    {
     "data": {
      "text/plain": [
       "<matplotlib.image.AxesImage at 0x7f3373fd67a0>"
      ]
     },
     "execution_count": 28,
     "metadata": {},
     "output_type": "execute_result"
    },
    {
     "data": {
      "image/png": "[encoded data removed]",
      "text/plain": [
       "<Figure size 480x480 with 1 Axes>"
      ]
     },
     "metadata": {},
     "output_type": "display_data"
    }
   ],
   "source": [
    "plt.matshow(base_model.layers[biasl[2]].weights[0][0,0].numpy())"
   ]
  },
  {
   "cell_type": "code",
   "execution_count": 7,
   "id": "65c01526",
   "metadata": {},
   "outputs": [],
   "source": [
    "#test_propagate(base_model.layers[biasl[0]])"
   ]
  },
  {
   "cell_type": "code",
   "execution_count": 8,
   "id": "b36d3990",
   "metadata": {},
   "outputs": [
    {
     "data": {
      "text/plain": [
       "<tf.Variable 'conv1_conv/bias:0' shape=(64,) dtype=float32, numpy=\n",
       "array([ 1.5829111e-09, -1.9272978e-10,  1.4708530e-10, -3.3394246e-11,\n",
       "       -1.0394472e-09, -2.2981408e-09, -5.2869503e-10, -3.1592794e-11,\n",
       "        1.8323251e-10, -4.9787726e-12,  2.1595645e-09, -1.3711804e-10,\n",
       "       -1.2207793e-09, -1.8223448e-09, -2.4185174e-09, -6.8378503e-10,\n",
       "       -4.4311914e-09,  4.9836388e-09, -3.2121539e-09,  2.0617887e-09,\n",
       "        2.9162595e-09, -3.3172360e-09,  2.6172473e-10,  1.2767545e-10,\n",
       "       -4.1365911e-09,  3.1397021e-10,  9.8183450e-10,  2.9085953e-10,\n",
       "       -2.2326749e-09, -3.5986544e-11,  1.9345316e-09,  2.4486041e-10,\n",
       "       -3.2064138e-09, -4.0993042e-10, -2.3597533e-09,  2.2365207e-10,\n",
       "        5.3403926e-09, -2.1422985e-11,  3.5645006e-10,  2.6985592e-09,\n",
       "        1.2312432e-09, -6.6246014e-10,  2.1508149e-09, -5.1568672e-10,\n",
       "        7.6417521e-09,  3.6630692e-11,  1.2633139e-09,  1.3274220e-09,\n",
       "       -3.3828521e-10,  9.2130364e-10,  1.1556998e-09,  6.8426276e-10,\n",
       "        1.1804819e-09, -1.1490321e-09,  9.6437758e-10,  3.3418340e-10,\n",
       "        2.5392918e-10, -2.4667539e-09, -1.4590341e-09, -3.2370850e-09,\n",
       "        2.3077633e-09,  6.9913663e-12, -1.0832873e-09, -6.6219047e-10],\n",
       "      dtype=float32)>"
      ]
     },
     "execution_count": 8,
     "metadata": {},
     "output_type": "execute_result"
    }
   ],
   "source": [
    "def copy_layer2(layer) -> tf.keras.layers.Layer:\n",
    "    config = layer.get_config()\n",
    "    weights = layer.get_weights()\n",
    "    layer2 = type(layer).from_config(config)\n",
    "    layer2.build(layer.input_shape)\n",
    "    print(weights)\n",
    "    layer2.set_weights(weights + [1])\n",
    "    return layer2\n",
    "\n",
    "\n",
    "# layer2 = copy_layer2(model.layers[1].layers[biasl[0]])\n",
    "model.layers[1].layers[biasl[0]].bias"
   ]
  },
  {
   "cell_type": "code",
   "execution_count": 9,
   "id": "782a7c4e",
   "metadata": {},
   "outputs": [],
   "source": [
    "for l in base_model.layers:\n",
    "    if isinstance(l, SparseConv2D):\n",
    "        expand_layer(l)"
   ]
  },
  {
   "cell_type": "code",
   "execution_count": 42,
   "id": "6754e23d",
   "metadata": {},
   "outputs": [],
   "source": [
    "followed_by_conv2d = [\n",
    "    i\n",
    "    for i in conv_idx\n",
    "    if type(base_model.layers[i]._outbound_nodes[0].outbound_layer)\n",
    "    == keras.layers.Multiply\n",
    "]"
   ]
  },
  {
   "cell_type": "code",
   "execution_count": null,
   "id": "1840171a",
   "metadata": {},
   "outputs": [
    {
     "data": {
      "application/vnd.jupyter.widget-view+json": {
       "model_id": "42ca297796b246d186d319797f59e683",
       "version_major": 2,
       "version_minor": 0
      },
      "text/plain": [
       "  0%|          | 0/3 [00:00<?, ?it/s]"
      ]
     },
     "metadata": {},
     "output_type": "display_data"
    }
   ],
   "source": [
    "xgrid = 3\n",
    "ygrid = 3\n",
    "fig, axs = plt.subplots(xgrid,ygrid,figsize=(16,16))\n",
    "for x in tqdm(range(xgrid)):\n",
    "    for y in range(ygrid):\n",
    "        m2 = tf.keras.Model(inputs = base_model.input, outputs = base_model.layers[biasl[x*ygrid+y]].output)\n",
    "        m1 = tf.keras.Model(inputs = model.input, outputs = model.layers[0].output)\n",
    "        m2 = m2(m1.output)\n",
    "        ftr_model = tf.keras.Model(m1.input, m2)\n",
    "        tot = 8\n",
    "        base_sum = tf.zeros(ftr_model.output_shape[1:])\n",
    "        for i,_ in train_ds:\n",
    "            base_sum += tf.reduce_sum(ftr_model(i), axis=0)\n",
    "            tot += 8\n",
    "        sh = base_sum / tot\n",
    "        sh -= np.min(sh)\n",
    "        sh /= (np.max(sh))\n",
    "        axs[x,y].matshow(sh)\n",
    "        axs[x,y].axis(\"off\")"
   ]
  },
  {
   "cell_type": "code",
   "execution_count": 15,
   "id": "35e618bd",
   "metadata": {},
   "outputs": [],
   "source": [
    "A = base_sum.numpy()\n",
    "U, s, Vt = np.linalg.svd(A)\n",
    "\n",
    "u = U[:, 0]\n",
    "v = Vt[0, :]\n",
    "\n",
    "uv_outer = np.outer(u, v)"
   ]
  },
  {
   "cell_type": "code",
   "execution_count": 17,
   "id": "8f764707",
   "metadata": {},
   "outputs": [
    {
     "data": {
      "text/plain": [
       "<matplotlib.image.AxesImage at 0x7f61e8593370>"
      ]
     },
     "execution_count": 17,
     "metadata": {},
     "output_type": "execute_result"
    },
    {
     "data": {
      "image/png": "[encoded data removed]",
      "text/plain": [
       "<Figure size 480x480 with 1 Axes>"
      ]
     },
     "metadata": {},
     "output_type": "display_data"
    }
   ],
   "source": [
    "plt.matshow(uv_outer / tot)"
   ]
  },
  {
   "cell_type": "code",
   "execution_count": 18,
   "id": "6432c538",
   "metadata": {},
   "outputs": [
    {
     "data": {
      "text/plain": [
       "array([ True,  True,  True,  True,  True,  True,  True,  True,  True,\n",
       "        True,  True,  True,  True,  True,  True,  True,  True,  True,\n",
       "        True,  True,  True,  True,  True,  True,  True,  True,  True,\n",
       "        True,  True,  True,  True,  True,  True,  True,  True,  True,\n",
       "        True,  True,  True,  True,  True,  True,  True,  True,  True,\n",
       "        True,  True,  True,  True,  True,  True,  True,  True,  True,\n",
       "        True,  True,  True,  True,  True,  True, False, False, False,\n",
       "       False, False, False, False, False, False, False, False, False,\n",
       "       False, False, False, False, False, False, False, False, False,\n",
       "       False, False, False, False, False, False, False, False, False,\n",
       "       False, False, False, False, False, False, False, False, False,\n",
       "       False, False, False, False, False, False, False, False, False,\n",
       "       False, False, False, False, False, False, False, False, False,\n",
       "       False, False, False, False, False, False, False, False, False,\n",
       "       False, False, False, False, False, False, False, False, False,\n",
       "       False, False, False, False, False])"
      ]
     },
     "execution_count": 18,
     "metadata": {},
     "output_type": "execute_result"
    }
   ],
   "source": [
    "is_bias = np.array([base_model.layers[i].use_bias for i in conv_idx])\n",
    "from utils import get_weights\n",
    "\n",
    "asort = np.argsort(get_weights(conv_idx, base_model))\n",
    "is_bias[asort]"
   ]
  },
  {
   "cell_type": "code",
   "execution_count": 21,
   "id": "19cb4daa",
   "metadata": {},
   "outputs": [
    {
     "data": {
      "text/plain": [
       "array([[2, 2],\n",
       "       [1, 1],\n",
       "       [1, 1],\n",
       "       [2, 2],\n",
       "       [1, 1],\n",
       "       [1, 1],\n",
       "       [1, 1],\n",
       "       [1, 1],\n",
       "       [1, 1],\n",
       "       [1, 1],\n",
       "       [1, 1],\n",
       "       [2, 2],\n",
       "       [1, 1],\n",
       "       [1, 1],\n",
       "       [1, 1],\n",
       "       [1, 1],\n",
       "       [1, 1],\n",
       "       [1, 1],\n",
       "       [1, 1],\n",
       "       [1, 1],\n",
       "       [1, 1],\n",
       "       [1, 1],\n",
       "       [1, 1],\n",
       "       [1, 1],\n",
       "       [1, 1],\n",
       "       [1, 1],\n",
       "       [1, 1],\n",
       "       [1, 1],\n",
       "       [1, 1],\n",
       "       [1, 1],\n",
       "       [1, 1],\n",
       "       [1, 1],\n",
       "       [1, 1],\n",
       "       [1, 1],\n",
       "       [1, 1],\n",
       "       [1, 1],\n",
       "       [1, 1],\n",
       "       [1, 1],\n",
       "       [1, 1],\n",
       "       [1, 1],\n",
       "       [1, 1],\n",
       "       [1, 1],\n",
       "       [1, 1],\n",
       "       [1, 1],\n",
       "       [1, 1],\n",
       "       [1, 1],\n",
       "       [1, 1],\n",
       "       [1, 1],\n",
       "       [1, 1],\n",
       "       [1, 1],\n",
       "       [1, 1],\n",
       "       [1, 1],\n",
       "       [1, 1],\n",
       "       [1, 1],\n",
       "       [1, 1],\n",
       "       [1, 1],\n",
       "       [1, 1],\n",
       "       [1, 1],\n",
       "       [1, 1],\n",
       "       [1, 1],\n",
       "       [1, 1],\n",
       "       [1, 1],\n",
       "       [1, 1],\n",
       "       [1, 1],\n",
       "       [1, 1],\n",
       "       [1, 1],\n",
       "       [1, 1],\n",
       "       [1, 1],\n",
       "       [1, 1],\n",
       "       [1, 1],\n",
       "       [1, 1],\n",
       "       [1, 1],\n",
       "       [1, 1],\n",
       "       [1, 1],\n",
       "       [1, 1],\n",
       "       [1, 1],\n",
       "       [1, 1],\n",
       "       [1, 1],\n",
       "       [1, 1],\n",
       "       [1, 1],\n",
       "       [1, 1],\n",
       "       [1, 1],\n",
       "       [1, 1],\n",
       "       [1, 1],\n",
       "       [1, 1],\n",
       "       [1, 1],\n",
       "       [1, 1],\n",
       "       [1, 1],\n",
       "       [1, 1],\n",
       "       [1, 1],\n",
       "       [1, 1],\n",
       "       [1, 1],\n",
       "       [1, 1],\n",
       "       [1, 1],\n",
       "       [1, 1],\n",
       "       [1, 1],\n",
       "       [1, 1],\n",
       "       [1, 1],\n",
       "       [1, 1],\n",
       "       [1, 1],\n",
       "       [1, 1],\n",
       "       [1, 1],\n",
       "       [1, 1],\n",
       "       [1, 1],\n",
       "       [1, 1],\n",
       "       [1, 1],\n",
       "       [1, 1],\n",
       "       [1, 1],\n",
       "       [1, 1],\n",
       "       [1, 1],\n",
       "       [1, 1],\n",
       "       [1, 1],\n",
       "       [1, 1],\n",
       "       [1, 1],\n",
       "       [1, 1],\n",
       "       [1, 1],\n",
       "       [1, 1],\n",
       "       [1, 1],\n",
       "       [1, 1],\n",
       "       [1, 1],\n",
       "       [1, 1],\n",
       "       [1, 1],\n",
       "       [1, 1],\n",
       "       [1, 1],\n",
       "       [1, 1],\n",
       "       [1, 1],\n",
       "       [1, 1],\n",
       "       [1, 1],\n",
       "       [1, 1],\n",
       "       [1, 1],\n",
       "       [1, 1],\n",
       "       [1, 1],\n",
       "       [1, 1],\n",
       "       [1, 1],\n",
       "       [1, 1],\n",
       "       [1, 1],\n",
       "       [1, 1],\n",
       "       [1, 1],\n",
       "       [1, 1],\n",
       "       [1, 1]])"
      ]
     },
     "execution_count": 21,
     "metadata": {},
     "output_type": "execute_result"
    }
   ],
   "source": [
    "np.array([base_model.layers[i].strides for i in conv_idx])"
   ]
  },
  {
   "cell_type": "code",
   "execution_count": 5,
   "id": "d6cda539",
   "metadata": {},
   "outputs": [],
   "source": [
    "def apply_mask(out, mask, weights):\n",
    "    # return out * tf.cast(tf.logical_not(mask), tf.float32) + weights * tf.cast(\n",
    "    #    mask, tf.float32\n",
    "    # )\n",
    "    return out * tf.cast(tf.logical_not(mask), tf.float16)"
   ]
  },
  {
   "cell_type": "code",
   "execution_count": 6,
   "id": "addd7e34",
   "metadata": {},
   "outputs": [],
   "source": [
    "def call_wrapper(func, mask, weights):\n",
    "    def wrapper(*args, **kwargs):\n",
    "        return apply_mask(func(*args, **kwargs), mask, weights)\n",
    "\n",
    "    return wrapper"
   ]
  },
  {
   "cell_type": "code",
   "execution_count": 7,
   "id": "2f42b3cd",
   "metadata": {},
   "outputs": [],
   "source": [
    "def set_const(layer, mask, weights):\n",
    "    if not \"partial\" in layer.name:\n",
    "        layer.default_call = layer.call\n",
    "        layer._name = f\"partial_{layer.name}\"\n",
    "    layer._mask = mask\n",
    "    layer.call = call_wrapper(layer.default_call, layer._mask, weights)"
   ]
  },
  {
   "cell_type": "code",
   "execution_count": 8,
   "id": "f9b0fdbe",
   "metadata": {},
   "outputs": [],
   "source": [
    "def test():\n",
    "    weights = tf.random.uniform(shape=[112, 112, 24], minval=0, maxval=4)\n",
    "    mask = tf.random.uniform(shape=[112, 112, 24], minval=0, maxval=1) > 0.2\n",
    "    set_const(base_model.layers[conv_idx[0]], mask, weights)\n",
    "    random_input = tf.random.uniform(shape=[1, 224, 224, 3])\n",
    "    out1 = base_model.layers[conv_idx[0]].call(random_input)\n",
    "    out2 = base_model.layers[conv_idx[0]].default_call(random_input)\n",
    "    print(tf.reduce_sum(tf.cast(out1 == out2, tf.float32) / (112 * 112 * 24)))"
   ]
  },
  {
   "cell_type": "code",
   "execution_count": 9,
   "id": "20f5f7c6",
   "metadata": {},
   "outputs": [],
   "source": [
    "def get_activations(model):\n",
    "    activations = []\n",
    "    for j, (d, t) in enumerate(test_ds):\n",
    "        if j == 40:\n",
    "            break\n",
    "        activations.append(model(d))\n",
    "    return tf.concat(activations, 0)"
   ]
  },
  {
   "cell_type": "code",
   "execution_count": null,
   "id": "31132fc7",
   "metadata": {},
   "outputs": [
    {
     "data": {
      "application/vnd.jupyter.widget-view+json": {
       "model_id": "842acd462e16421d88dba41ad3032e2b",
       "version_major": 2,
       "version_minor": 0
      },
      "text/plain": [
       "  0%|          | 0/140 [00:00<?, ?it/s]"
      ]
     },
     "metadata": {},
     "output_type": "display_data"
    },
    {
     "name": "stderr",
     "output_type": "stream",
     "text": [
      "2023-02-15 12:35:04.616971: I tensorflow/compiler/xla/stream_executor/cuda/cuda_dnn.cc:428] Loaded cuDNN version 8401\n"
     ]
    },
    {
     "name": "stdout",
     "output_type": "stream",
     "text": [
      "BASELINE: 0.71240\n",
      "Accuracy: 0.57120, threshold: 25.0%\n",
      "Accuracy: 0.70680, threshold: 12.5%\n",
      "Accuracy: 0.71000, threshold: 6.25%\n",
      "Accuracy: 0.71240, threshold: 9.375%\n",
      "Accuracy: 0.71160, threshold: 10.9375%\n",
      "Threshold: 0.00038 (9.375%)\n",
      "BASELINE: 0.71160\n",
      "Accuracy: 0.58000, threshold: 25.0%\n",
      "Accuracy: 0.67260, threshold: 12.5%\n",
      "Accuracy: 0.71000, threshold: 6.25%\n",
      "Accuracy: 0.71100, threshold: 9.375%\n",
      "Accuracy: 0.70740, threshold: 7.8125%\n",
      "Threshold: 0.46216 (6.25%)\n",
      "BASELINE: 0.71100\n",
      "Accuracy: 0.56160, threshold: 25.0%\n",
      "Accuracy: 0.65840, threshold: 12.5%\n",
      "Accuracy: 0.69380, threshold: 6.25%\n",
      "Accuracy: 0.70300, threshold: 3.125%\n",
      "Accuracy: 0.70840, threshold: 1.5625%\n",
      "Threshold: 0.00000 (0%)\n",
      "BASELINE: 0.71100\n",
      "Accuracy: 0.65620, threshold: 25.0%\n",
      "Accuracy: 0.70660, threshold: 12.5%\n",
      "Accuracy: 0.71120, threshold: 18.75%\n",
      "Accuracy: 0.71020, threshold: 21.875%\n",
      "Accuracy: 0.70860, threshold: 20.3125%\n",
      "Threshold: 7.81250 (18.75%)\n",
      "BASELINE: 0.71020\n",
      "Accuracy: 0.59780, threshold: 25.0%\n",
      "Accuracy: 0.69520, threshold: 12.5%\n",
      "Accuracy: 0.70480, threshold: 6.25%\n",
      "Accuracy: 0.70900, threshold: 3.125%\n",
      "Accuracy: 0.71140, threshold: 4.6875%\n",
      "Threshold: 8.37500 (3.125%)\n",
      "BASELINE: 0.71140\n",
      "Accuracy: 0.69940, threshold: 25.0%\n",
      "Accuracy: 0.70640, threshold: 12.5%\n",
      "Accuracy: 0.71360, threshold: 18.75%\n",
      "Accuracy: 0.70960, threshold: 15.625%\n",
      "Accuracy: 0.71160, threshold: 14.0625%\n",
      "Threshold: 39.56250 (12.5%)\n",
      "BASELINE: 0.71360\n",
      "Accuracy: 0.71000, threshold: 25.0%\n",
      "Accuracy: 0.70860, threshold: 12.5%\n",
      "Accuracy: 0.70800, threshold: 6.25%\n",
      "Accuracy: 0.71140, threshold: 3.125%\n",
      "Accuracy: 0.71280, threshold: 4.6875%\n",
      "Threshold: 0.24231 (3.125%)\n",
      "BASELINE: 0.71280\n",
      "Accuracy: 0.70940, threshold: 25.0%\n",
      "Accuracy: 0.71140, threshold: 12.5%\n",
      "Accuracy: 0.71100, threshold: 6.25%\n",
      "Accuracy: 0.71220, threshold: 9.375%\n",
      "Accuracy: 0.71200, threshold: 10.9375%\n",
      "Threshold: 38.18750 (9.375%)\n",
      "BASELINE: 0.71200\n",
      "Accuracy: 0.70340, threshold: 25.0%\n",
      "Accuracy: 0.71160, threshold: 37.5%\n",
      "Accuracy: 0.70860, threshold: 31.25%\n",
      "Accuracy: 0.70900, threshold: 28.125%\n",
      "Accuracy: 0.70980, threshold: 26.5625%\n",
      "Threshold: 0.19360 (25.0%)\n",
      "BASELINE: 0.71160\n",
      "Accuracy: 0.70620, threshold: 25.0%\n",
      "Accuracy: 0.70880, threshold: 12.5%\n",
      "Accuracy: 0.70960, threshold: 6.25%\n",
      "Accuracy: 0.71180, threshold: 9.375%\n",
      "Accuracy: 0.71060, threshold: 7.8125%\n",
      "Threshold: 37.87500 (6.25%)\n",
      "BASELINE: 0.71180\n",
      "Accuracy: 0.67940, threshold: 25.0%\n",
      "Accuracy: 0.70220, threshold: 12.5%\n",
      "Accuracy: 0.70620, threshold: 6.25%\n",
      "Accuracy: 0.70960, threshold: 3.125%\n",
      "Accuracy: 0.71100, threshold: 4.6875%\n",
      "Threshold: 0.04807 (3.125%)\n",
      "BASELINE: 0.71100\n",
      "Accuracy: 0.55320, threshold: 25.0%\n",
      "Accuracy: 0.68160, threshold: 12.5%\n",
      "Accuracy: 0.70300, threshold: 6.25%\n",
      "Accuracy: 0.70940, threshold: 3.125%\n",
      "Accuracy: 0.70940, threshold: 1.5625%\n",
      "Threshold: 0.00000 (0%)\n",
      "BASELINE: 0.71100\n",
      "Accuracy: 0.35360, threshold: 25.0%\n",
      "Accuracy: 0.63600, threshold: 12.5%\n",
      "Accuracy: 0.69440, threshold: 6.25%\n",
      "Accuracy: 0.69980, threshold: 3.125%\n",
      "Accuracy: 0.70560, threshold: 1.5625%\n",
      "Threshold: 0.00000 (0%)\n",
      "BASELINE: 0.71100\n",
      "Accuracy: 0.70300, threshold: 25.0%\n",
      "Accuracy: 0.70800, threshold: 12.5%\n",
      "Accuracy: 0.71040, threshold: 18.75%\n",
      "Accuracy: 0.70860, threshold: 15.625%\n",
      "Accuracy: 0.71040, threshold: 17.1875%\n",
      "Threshold: 59.65625 (15.625%)\n",
      "BASELINE: 0.71040\n",
      "Accuracy: 0.69720, threshold: 25.0%\n",
      "Accuracy: 0.70240, threshold: 12.5%\n",
      "Accuracy: 0.70560, threshold: 6.25%\n",
      "Accuracy: 0.70740, threshold: 3.125%\n",
      "Accuracy: 0.71140, threshold: 4.6875%\n",
      "Threshold: 0.07758 (3.125%)\n",
      "BASELINE: 0.71140\n",
      "Accuracy: 0.69180, threshold: 25.0%\n",
      "Accuracy: 0.70180, threshold: 12.5%\n",
      "Accuracy: 0.70700, threshold: 6.25%\n",
      "Accuracy: 0.70980, threshold: 3.125%\n",
      "Accuracy: 0.70980, threshold: 1.5625%\n",
      "Threshold: 0.00000 (0%)\n",
      "BASELINE: 0.71140\n",
      "Accuracy: 0.69760, threshold: 25.0%\n",
      "Accuracy: 0.70600, threshold: 12.5%\n",
      "Accuracy: 0.70680, threshold: 6.25%\n",
      "Accuracy: 0.70960, threshold: 3.125%\n",
      "Accuracy: 0.71020, threshold: 1.5625%\n",
      "Threshold: 0.00000 (0%)\n",
      "BASELINE: 0.71140\n",
      "Accuracy: 0.70220, threshold: 25.0%\n",
      "Accuracy: 0.70220, threshold: 12.5%\n",
      "Accuracy: 0.70800, threshold: 6.25%\n",
      "Accuracy: 0.70860, threshold: 3.125%\n",
      "Accuracy: 0.70980, threshold: 1.5625%\n",
      "Threshold: 0.00000 (0%)\n",
      "BASELINE: 0.71140\n",
      "Accuracy: 0.69960, threshold: 25.0%\n",
      "Accuracy: 0.70600, threshold: 12.5%\n",
      "Accuracy: 0.70920, threshold: 6.25%\n",
      "Accuracy: 0.71160, threshold: 9.375%\n",
      "Accuracy: 0.71020, threshold: 7.8125%\n",
      "Threshold: 0.03558 (6.25%)\n",
      "BASELINE: 0.71160\n",
      "Accuracy: 0.52100, threshold: 25.0%\n",
      "Accuracy: 0.69060, threshold: 12.5%\n",
      "Accuracy: 0.70820, threshold: 6.25%\n",
      "Accuracy: 0.71100, threshold: 9.375%\n",
      "Accuracy: 0.71060, threshold: 10.9375%\n",
      "Threshold: 24.67188 (9.375%)\n",
      "BASELINE: 0.71060\n",
      "Accuracy: 0.71060, threshold: 75.0%\n",
      "Accuracy: 0.71160, threshold: 87.5%\n",
      "Accuracy: 0.71120, threshold: 93.75%\n",
      "Accuracy: 0.71020, threshold: 90.625%\n",
      "Accuracy: 0.71020, threshold: 89.0625%\n",
      "Threshold: 25.59375 (87.5%)\n",
      "BASELINE: 0.71120\n",
      "Accuracy: 0.23300, threshold: 25.0%\n",
      "Accuracy: 0.68020, threshold: 12.5%\n",
      "Accuracy: 0.70480, threshold: 6.25%\n",
      "Accuracy: 0.71040, threshold: 9.375%\n",
      "Accuracy: 0.70700, threshold: 7.8125%\n",
      "Threshold: 0.77637 (6.25%)\n",
      "BASELINE: 0.71040\n",
      "Accuracy: 0.39660, threshold: 25.0%\n",
      "Accuracy: 0.67520, threshold: 12.5%\n",
      "Accuracy: 0.69960, threshold: 6.25%\n",
      "Accuracy: 0.70880, threshold: 3.125%\n",
      "Accuracy: 0.71080, threshold: 4.6875%\n",
      "Threshold: 4.01953 (3.125%)\n",
      "BASELINE: 0.71080\n",
      "Accuracy: 0.70380, threshold: 25.0%\n",
      "Accuracy: 0.70760, threshold: 12.5%\n",
      "Accuracy: 0.71080, threshold: 18.75%\n",
      "Accuracy: 0.70820, threshold: 15.625%\n",
      "Accuracy: 0.70980, threshold: 17.1875%\n",
      "Threshold: 11.12500 (15.625%)\n",
      "BASELINE: 0.70980\n",
      "Accuracy: 0.70720, threshold: 25.0%\n",
      "Accuracy: 0.70820, threshold: 12.5%\n",
      "Accuracy: 0.70940, threshold: 18.75%\n",
      "Accuracy: 0.70980, threshold: 21.875%\n",
      "Accuracy: 0.70940, threshold: 23.4375%\n",
      "Threshold: 0.58496 (21.875%)\n",
      "BASELINE: 0.70940\n",
      "Accuracy: 0.70380, threshold: 25.0%\n",
      "Accuracy: 0.70800, threshold: 12.5%\n",
      "Accuracy: 0.70920, threshold: 18.75%\n",
      "Accuracy: 0.70860, threshold: 21.875%\n",
      "Accuracy: 0.70760, threshold: 20.3125%\n",
      "Threshold: 0.00677 (18.75%)\n",
      "BASELINE: 0.70860\n",
      "Accuracy: 0.70760, threshold: 75.0%\n",
      "Accuracy: 0.70560, threshold: 62.5%\n",
      "Accuracy: 0.70700, threshold: 56.25%\n",
      "Accuracy: 0.70900, threshold: 59.375%\n",
      "Accuracy: 0.70780, threshold: 57.8125%\n",
      "Threshold: 0.21741 (56.25%)\n",
      "BASELINE: 0.70900\n",
      "Accuracy: 0.70080, threshold: 25.0%\n",
      "Accuracy: 0.70640, threshold: 12.5%\n",
      "Accuracy: 0.70860, threshold: 18.75%\n",
      "Accuracy: 0.70760, threshold: 15.625%\n",
      "Accuracy: 0.70820, threshold: 17.1875%\n",
      "Threshold: 10.00000 (15.625%)\n",
      "BASELINE: 0.70820\n",
      "Accuracy: 0.70740, threshold: 75.0%\n",
      "Accuracy: 0.70200, threshold: 62.5%\n",
      "Accuracy: 0.70620, threshold: 56.25%\n",
      "Accuracy: 0.70760, threshold: 59.375%\n",
      "Accuracy: 0.70940, threshold: 60.9375%\n",
      "Threshold: 6.29688 (59.375%)\n",
      "BASELINE: 0.70940\n",
      "Accuracy: 0.70480, threshold: 25.0%\n",
      "Accuracy: 0.70460, threshold: 12.5%\n",
      "Accuracy: 0.70820, threshold: 6.25%\n",
      "Accuracy: 0.70920, threshold: 9.375%\n",
      "Accuracy: 0.70880, threshold: 10.9375%\n",
      "Threshold: 0.00819 (9.375%)\n",
      "BASELINE: 0.70880\n",
      "Accuracy: 0.71060, threshold: 75.0%\n",
      "Accuracy: 0.70940, threshold: 62.5%\n",
      "Accuracy: 0.71260, threshold: 68.75%\n",
      "Accuracy: 0.70960, threshold: 65.625%\n",
      "Accuracy: 0.71120, threshold: 64.0625%\n",
      "Threshold: 0.12195 (62.5%)\n",
      "BASELINE: 0.71260\n",
      "Accuracy: 0.70200, threshold: 25.0%\n",
      "Accuracy: 0.70960, threshold: 12.5%\n",
      "Accuracy: 0.70840, threshold: 6.25%\n",
      "Accuracy: 0.70840, threshold: 3.125%\n",
      "Accuracy: 0.71100, threshold: 1.5625%\n",
      "Threshold: 0.00000 (0%)\n",
      "BASELINE: 0.71260\n",
      "Accuracy: 0.70380, threshold: 25.0%\n",
      "Accuracy: 0.71100, threshold: 12.5%\n",
      "Accuracy: 0.71220, threshold: 18.75%\n",
      "Accuracy: 0.71120, threshold: 15.625%\n",
      "Accuracy: 0.71160, threshold: 17.1875%\n",
      "Threshold: 0.25195 (15.625%)\n",
      "BASELINE: 0.71160\n",
      "Accuracy: 0.70720, threshold: 25.0%\n",
      "Accuracy: 0.70820, threshold: 12.5%\n",
      "Accuracy: 0.71100, threshold: 18.75%\n",
      "Accuracy: 0.71100, threshold: 21.875%\n",
      "Accuracy: 0.71020, threshold: 20.3125%\n",
      "Threshold: 0.04657 (18.75%)\n",
      "BASELINE: 0.71100\n",
      "Accuracy: 0.71240, threshold: 75.0%\n",
      "Accuracy: 0.70760, threshold: 62.5%\n",
      "Accuracy: 0.70980, threshold: 56.25%\n",
      "Accuracy: 0.71260, threshold: 59.375%\n",
      "Accuracy: 0.71120, threshold: 57.8125%\n",
      "Threshold: 0.19055 (56.25%)\n",
      "BASELINE: 0.71260\n",
      "Accuracy: 0.70620, threshold: 25.0%\n",
      "Accuracy: 0.70860, threshold: 12.5%\n",
      "Accuracy: 0.70840, threshold: 6.25%\n",
      "Accuracy: 0.71040, threshold: 3.125%\n"
     ]
    },
    {
     "name": "stdout",
     "output_type": "stream",
     "text": [
      "Accuracy: 0.71200, threshold: 4.6875%\n",
      "Threshold: 6.71875 (3.125%)\n",
      "BASELINE: 0.71200\n",
      "Accuracy: 0.70700, threshold: 25.0%\n",
      "Accuracy: 0.71240, threshold: 37.5%\n",
      "Accuracy: 0.70980, threshold: 31.25%\n",
      "Accuracy: 0.71140, threshold: 28.125%\n",
      "Accuracy: 0.71240, threshold: 29.6875%\n",
      "Threshold: 1.17676 (28.125%)\n",
      "BASELINE: 0.71240\n",
      "Accuracy: 0.70300, threshold: 25.0%\n",
      "Accuracy: 0.71020, threshold: 12.5%\n",
      "Accuracy: 0.71240, threshold: 18.75%\n",
      "Accuracy: 0.70940, threshold: 15.625%\n",
      "Accuracy: 0.71040, threshold: 14.0625%\n",
      "Threshold: 0.00342 (12.5%)\n",
      "BASELINE: 0.71240\n",
      "Accuracy: 0.71160, threshold: 75.0%\n",
      "Accuracy: 0.71020, threshold: 62.5%\n",
      "Accuracy: 0.71220, threshold: 68.75%\n",
      "Accuracy: 0.71000, threshold: 65.625%\n",
      "Accuracy: 0.71220, threshold: 67.1875%\n",
      "Threshold: 0.06604 (65.625%)\n",
      "BASELINE: 0.71220\n",
      "Accuracy: 0.70700, threshold: 25.0%\n",
      "Accuracy: 0.71020, threshold: 12.5%\n",
      "Accuracy: 0.71040, threshold: 6.25%\n",
      "Accuracy: 0.71180, threshold: 9.375%\n",
      "Accuracy: 0.71200, threshold: 10.9375%\n",
      "Threshold: 10.35156 (9.375%)\n",
      "BASELINE: 0.71200\n",
      "Accuracy: 0.70820, threshold: 25.0%\n",
      "Accuracy: 0.71080, threshold: 12.5%\n",
      "Accuracy: 0.71240, threshold: 18.75%\n",
      "Accuracy: 0.71220, threshold: 21.875%\n",
      "Accuracy: 0.71160, threshold: 23.4375%\n",
      "Threshold: 0.77100 (21.875%)\n",
      "BASELINE: 0.71160\n",
      "Accuracy: 0.70520, threshold: 25.0%\n",
      "Accuracy: 0.70800, threshold: 12.5%\n",
      "Accuracy: 0.71100, threshold: 18.75%\n",
      "Accuracy: 0.70740, threshold: 15.625%\n",
      "Accuracy: 0.70820, threshold: 14.0625%\n",
      "Threshold: 0.01094 (12.5%)\n",
      "BASELINE: 0.71100\n",
      "Accuracy: 0.70960, threshold: 25.0%\n",
      "Accuracy: 0.70940, threshold: 12.5%\n",
      "Accuracy: 0.71060, threshold: 18.75%\n",
      "Accuracy: 0.71140, threshold: 21.875%\n",
      "Accuracy: 0.71040, threshold: 23.4375%\n",
      "Threshold: 0.03903 (21.875%)\n",
      "BASELINE: 0.71040\n",
      "Accuracy: 0.45440, threshold: 25.0%\n",
      "Accuracy: 0.66660, threshold: 12.5%\n",
      "Accuracy: 0.69720, threshold: 6.25%\n",
      "Accuracy: 0.70660, threshold: 3.125%\n",
      "Accuracy: 0.70780, threshold: 1.5625%\n",
      "Threshold: 0.00000 (0%)\n",
      "BASELINE: 0.71040\n",
      "Accuracy: 0.71180, threshold: 75.0%\n",
      "Accuracy: 0.70340, threshold: 62.5%\n",
      "Accuracy: 0.71100, threshold: 68.75%\n",
      "Accuracy: 0.70780, threshold: 65.625%\n",
      "Accuracy: 0.71160, threshold: 67.1875%\n",
      "Threshold: 3.81250 (65.625%)\n",
      "BASELINE: 0.71160\n",
      "Accuracy: 0.58340, threshold: 25.0%\n",
      "Accuracy: 0.67740, threshold: 12.5%\n",
      "Accuracy: 0.70980, threshold: 6.25%\n",
      "Accuracy: 0.71120, threshold: 9.375%\n",
      "Accuracy: 0.71040, threshold: 7.8125%\n",
      "Threshold: 0.01723 (6.25%)\n",
      "BASELINE: 0.71120\n",
      "Accuracy: 0.61280, threshold: 25.0%\n",
      "Accuracy: 0.68200, threshold: 12.5%\n",
      "Accuracy: 0.69820, threshold: 6.25%\n",
      "Accuracy: 0.70520, threshold: 3.125%\n",
      "Accuracy: 0.70960, threshold: 1.5625%\n",
      "Threshold: 0.00000 (0%)\n",
      "BASELINE: 0.71120\n",
      "Accuracy: 0.69600, threshold: 25.0%\n",
      "Accuracy: 0.70200, threshold: 12.5%\n",
      "Accuracy: 0.70800, threshold: 6.25%\n",
      "Accuracy: 0.71080, threshold: 9.375%\n",
      "Accuracy: 0.70900, threshold: 7.8125%\n",
      "Threshold: 7.14453 (6.25%)\n",
      "BASELINE: 0.71080\n",
      "Accuracy: 0.70900, threshold: 25.0%\n",
      "Accuracy: 0.71200, threshold: 37.5%\n",
      "Accuracy: 0.70840, threshold: 31.25%\n",
      "Accuracy: 0.70960, threshold: 28.125%\n",
      "Accuracy: 0.71080, threshold: 26.5625%\n",
      "Threshold: 0.97754 (25.0%)\n",
      "BASELINE: 0.71200\n",
      "Accuracy: 0.70480, threshold: 25.0%\n",
      "Accuracy: 0.70580, threshold: 12.5%\n",
      "Accuracy: 0.70940, threshold: 6.25%\n",
      "Accuracy: 0.71160, threshold: 9.375%\n",
      "Accuracy: 0.71080, threshold: 7.8125%\n",
      "Threshold: 0.01254 (6.25%)\n",
      "BASELINE: 0.71160\n",
      "Accuracy: 0.71060, threshold: 75.0%\n",
      "Accuracy: 0.70320, threshold: 62.5%\n",
      "Accuracy: 0.70460, threshold: 56.25%\n",
      "Accuracy: 0.70880, threshold: 53.125%\n",
      "Accuracy: 0.71100, threshold: 54.6875%\n",
      "Threshold: 0.21899 (53.125%)\n",
      "BASELINE: 0.71100\n",
      "Accuracy: 0.69340, threshold: 25.0%\n",
      "Accuracy: 0.70360, threshold: 12.5%\n",
      "Accuracy: 0.70940, threshold: 6.25%\n",
      "Accuracy: 0.70900, threshold: 3.125%\n",
      "Accuracy: 0.70940, threshold: 1.5625%\n",
      "Threshold: 0.00000 (0%)\n",
      "BASELINE: 0.71100\n",
      "Accuracy: 0.70620, threshold: 25.0%\n",
      "Accuracy: 0.70920, threshold: 12.5%\n",
      "Accuracy: 0.71060, threshold: 18.75%\n",
      "Accuracy: 0.70880, threshold: 15.625%\n",
      "Accuracy: 0.71000, threshold: 14.0625%\n",
      "Threshold: 1.37109 (12.5%)\n",
      "BASELINE: 0.71060\n",
      "Accuracy: 0.69860, threshold: 25.0%\n",
      "Accuracy: 0.70900, threshold: 12.5%\n",
      "Accuracy: 0.70780, threshold: 6.25%\n",
      "Accuracy: 0.70900, threshold: 3.125%\n",
      "Accuracy: 0.71080, threshold: 4.6875%\n",
      "Threshold: 0.00349 (3.125%)\n",
      "BASELINE: 0.71080\n",
      "Accuracy: 0.70320, threshold: 25.0%\n",
      "Accuracy: 0.70740, threshold: 12.5%\n",
      "Accuracy: 0.70880, threshold: 6.25%\n",
      "Accuracy: 0.70980, threshold: 9.375%\n",
      "Accuracy: 0.70840, threshold: 7.8125%\n",
      "Threshold: 0.09924 (6.25%)\n",
      "BASELINE: 0.70980\n",
      "Accuracy: 0.69620, threshold: 25.0%\n",
      "Accuracy: 0.70440, threshold: 12.5%\n",
      "Accuracy: 0.70840, threshold: 6.25%\n",
      "Accuracy: 0.70840, threshold: 3.125%\n",
      "Accuracy: 0.70980, threshold: 4.6875%\n",
      "Threshold: 7.17188 (3.125%)\n",
      "BASELINE: 0.70980\n",
      "Accuracy: 0.70920, threshold: 75.0%\n",
      "Accuracy: 0.71020, threshold: 87.5%\n",
      "Accuracy: 0.70440, threshold: 81.25%\n",
      "Accuracy: 0.70300, threshold: 78.125%\n",
      "Accuracy: 0.70680, threshold: 76.5625%\n",
      "Threshold: 5.17578 (75.0%)\n",
      "BASELINE: 0.71020\n",
      "Accuracy: 0.69640, threshold: 25.0%\n",
      "Accuracy: 0.70140, threshold: 12.5%\n",
      "Accuracy: 0.70500, threshold: 6.25%\n",
      "Accuracy: 0.70900, threshold: 3.125%\n",
      "Accuracy: 0.70880, threshold: 1.5625%\n",
      "Threshold: 0.00000 (0%)\n",
      "BASELINE: 0.71020\n",
      "Accuracy: 0.70840, threshold: 25.0%\n",
      "Accuracy: 0.70820, threshold: 12.5%\n",
      "Accuracy: 0.70900, threshold: 6.25%\n",
      "Accuracy: 0.70820, threshold: 3.125%\n",
      "Accuracy: 0.70860, threshold: 1.5625%\n",
      "Threshold: 0.00000 (0%)\n",
      "BASELINE: 0.71020\n",
      "Accuracy: 0.70280, threshold: 25.0%\n",
      "Accuracy: 0.70640, threshold: 12.5%\n",
      "Accuracy: 0.70680, threshold: 6.25%\n",
      "Accuracy: 0.70740, threshold: 3.125%\n",
      "Accuracy: 0.70760, threshold: 1.5625%\n",
      "Threshold: 0.00000 (0%)\n",
      "BASELINE: 0.71020\n",
      "Accuracy: 0.70500, threshold: 25.0%\n",
      "Accuracy: 0.70420, threshold: 12.5%\n",
      "Accuracy: 0.70640, threshold: 6.25%\n",
      "Accuracy: 0.70980, threshold: 9.375%\n",
      "Accuracy: 0.70740, threshold: 7.8125%\n",
      "Threshold: 2.03125 (6.25%)\n",
      "BASELINE: 0.70980\n",
      "Accuracy: 0.70560, threshold: 25.0%\n",
      "Accuracy: 0.71040, threshold: 37.5%\n",
      "Accuracy: 0.70460, threshold: 31.25%\n",
      "Accuracy: 0.70520, threshold: 28.125%\n",
      "Accuracy: 0.70720, threshold: 26.5625%\n",
      "Threshold: 0.08942 (25.0%)\n",
      "BASELINE: 0.71040\n",
      "Accuracy: 0.71100, threshold: 75.0%\n",
      "Accuracy: 0.70860, threshold: 62.5%\n",
      "Accuracy: 0.70900, threshold: 56.25%\n",
      "Accuracy: 0.71060, threshold: 59.375%\n",
      "Accuracy: 0.71020, threshold: 60.9375%\n",
      "Threshold: 0.12744 (59.375%)\n",
      "BASELINE: 0.71020\n",
      "Accuracy: 0.69700, threshold: 25.0%\n",
      "Accuracy: 0.70440, threshold: 12.5%\n",
      "Accuracy: 0.71000, threshold: 18.75%\n",
      "Accuracy: 0.70940, threshold: 21.875%\n",
      "Accuracy: 0.70580, threshold: 20.3125%\n",
      "Threshold: 13.66406 (18.75%)\n",
      "BASELINE: 0.70940\n",
      "Accuracy: 0.69620, threshold: 25.0%\n",
      "Accuracy: 0.70080, threshold: 12.5%\n",
      "Accuracy: 0.70580, threshold: 6.25%\n",
      "Accuracy: 0.70800, threshold: 3.125%\n",
      "Accuracy: 0.70840, threshold: 4.6875%\n",
      "Threshold: 1.12598 (3.125%)\n",
      "BASELINE: 0.70840\n",
      "Accuracy: 0.69220, threshold: 25.0%\n",
      "Accuracy: 0.69720, threshold: 12.5%\n",
      "Accuracy: 0.70460, threshold: 6.25%\n",
      "Accuracy: 0.70700, threshold: 3.125%\n",
      "Accuracy: 0.70820, threshold: 4.6875%\n",
      "Threshold: 0.00232 (3.125%)\n",
      "BASELINE: 0.70820\n",
      "Accuracy: 0.70080, threshold: 25.0%\n",
      "Accuracy: 0.70600, threshold: 12.5%\n",
      "Accuracy: 0.70740, threshold: 18.75%\n",
      "Accuracy: 0.70620, threshold: 15.625%\n",
      "Accuracy: 0.70580, threshold: 14.0625%\n",
      "Threshold: 0.06311 (12.5%)\n",
      "BASELINE: 0.70740\n",
      "Accuracy: 0.70000, threshold: 25.0%\n"
     ]
    }
   ],
   "source": [
    "for i in tqdm(conv_idx):\n",
    "    m = tf.keras.Model(inputs=base_model.input, outputs=base_model.layers[i].output)\n",
    "    activations = get_activations(m)\n",
    "    stds = tf.math.reduce_mean(activations**2, 0)\n",
    "    means = tf.math.reduce_mean(activations, 0)\n",
    "    t_min, t_cur, t_max = 0, 50, 100\n",
    "    model.compile(loss=\"categorical_crossentropy\", metrics=[\"accuracy\"])\n",
    "    base_accuracy = model.evaluate(test_ds, verbose=0)[1]\n",
    "    min_cutoff = 0.0\n",
    "    print(f\"BASELINE: {base_accuracy:.5f}\")\n",
    "    while t_max - t_min > 100 / 2**5:\n",
    "        cutoff = tfp.stats.percentile(stds, t_cur)\n",
    "        set_const(base_model.layers[i], stds < cutoff, means)\n",
    "        model.compile(loss=\"categorical_crossentropy\", metrics=[\"accuracy\"])\n",
    "        out_accuracy = model.evaluate(test_ds, verbose=0)[1]\n",
    "        if out_accuracy >= base_accuracy - 1e-3:\n",
    "            t_min = t_cur\n",
    "            min_cutoff = cutoff\n",
    "            if out_accuracy > base_accuracy:\n",
    "                base_accuracy = out_accuracy\n",
    "        else:\n",
    "            t_max = t_cur\n",
    "        t_cur = (t_max - t_min) / 2 + t_min\n",
    "        print(f\"Accuracy: {out_accuracy:.5f}, threshold: {t_cur}%\")\n",
    "    print(f\"Threshold: {min_cutoff:.5f} ({t_min}%)\")\n",
    "    set_const(base_model.layers[i], stds < min_cutoff, means)"
   ]
  },
  {
   "cell_type": "code",
   "execution_count": null,
   "id": "d9f5ba8d",
   "metadata": {},
   "outputs": [],
   "source": [
    "for i in tqdm(conv_idx):\n",
    "    m = tf.keras.Model(inputs=base_model.input, outputs=base_model.layers[i].output)\n",
    "    activations = get_activations(m)\n",
    "    stds = tf.math.reduce_std(activations, 0)\n",
    "    means = tf.math.reduce_mean(activations, 0)\n",
    "    t_min, t_cur, t_max = 0, 50, 100\n",
    "    model.compile(loss=\"categorical_crossentropy\", metrics=[\"accuracy\"])\n",
    "    base_accuracy = model.evaluate(test_ds, verbose=0)[1]\n",
    "    min_cutoff = 0.0\n",
    "    print(f\"BASELINE: {base_accuracy:.5f}\")\n",
    "    while t_max - t_min > 100 / 2**5:\n",
    "        cutoff = tfp.stats.percentile(stds, t_cur)\n",
    "        set_const(base_model.layers[i], stds < cutoff, means)\n",
    "        model.compile(loss=\"categorical_crossentropy\", metrics=[\"accuracy\"])\n",
    "        out_accuracy = model.evaluate(test_ds, verbose=0)[1]\n",
    "        if out_accuracy >= base_accuracy - 1e-3:\n",
    "            t_min = t_cur\n",
    "            min_cutoff = cutoff\n",
    "            if out_accuracy > base_accuracy:\n",
    "                base_accuracy = out_accuracy\n",
    "        else:\n",
    "            t_max = t_cur\n",
    "        t_cur = (t_max - t_min) / 2 + t_min\n",
    "        print(f\"Accuracy: {out_accuracy:.5f}, threshold: {t_cur}%\")\n",
    "    print(f\"Threshold: {min_cutoff:.5f} ({t_min}%)\")\n",
    "    set_const(base_model.layers[i], stds < min_cutoff, means)"
   ]
  },
  {
   "cell_type": "code",
   "execution_count": null,
   "id": "7414d69a",
   "metadata": {},
   "outputs": [],
   "source": []
  },
  {
   "cell_type": "code",
   "execution_count": null,
   "id": "9483704f",
   "metadata": {},
   "outputs": [],
   "source": []
  }
 ],
 "metadata": {
  "kernelspec": {
   "display_name": "Python 3 (ipykernel)",
   "language": "python",
   "name": "python3"
  },
  "language_info": {
   "codemirror_mode": {
    "name": "ipython",
    "version": 3
   },
   "file_extension": ".py",
   "mimetype": "text/x-python",
   "name": "python",
   "nbconvert_exporter": "python",
   "pygments_lexer": "ipython3",
   "version": "3.10.9"
  }
 },
 "nbformat": 4,
 "nbformat_minor": 5
}
