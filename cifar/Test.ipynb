{
 "cells": [
  {
   "cell_type": "code",
   "execution_count": 68,
   "id": "f51b01d3",
   "metadata": {},
   "outputs": [],
   "source": [
    "import os\n",
    "\n",
    "os.environ[\"TF_CPP_MIN_LOG_LEVEL\"] = \"3\"\n",
    "import tensorflow as tf\n",
    "import numpy as np\n",
    "import matplotlib.pyplot as plt\n",
    "from model import get_resnet\n",
    "from dataset import get_dataset\n",
    "import tensorflow_probability as tfp\n",
    "from tqdm.notebook import tqdm\n",
    "from tensorflow.keras import mixed_precision\n",
    "from tensorflow.keras.layers import Layer, Conv2D\n",
    "from sparse_conv2d import SparseConv2D\n",
    "from utils import expand_layer, propagate_constants, copy_layer\n",
    "import tensorly as tl\n",
    "from tensorly.decomposition import partial_tucker\n",
    "import utils\n",
    "\n",
    "# mixed_precision.set_global_policy(\"mixed_float16\")\n",
    "from tensorflow.keras.utils import register_keras_serializable"
   ]
  },
  {
   "cell_type": "code",
   "execution_count": 59,
   "id": "c3b4553b",
   "metadata": {},
   "outputs": [
    {
     "data": {
      "text/plain": [
       "[PhysicalDevice(name='/physical_device:GPU:0', device_type='GPU')]"
      ]
     },
     "execution_count": 59,
     "metadata": {},
     "output_type": "execute_result"
    }
   ],
   "source": [
    "tf.config.list_physical_devices(\"GPU\")"
   ]
  },
  {
   "cell_type": "code",
   "execution_count": 60,
   "id": "69cca625",
   "metadata": {
    "scrolled": false
   },
   "outputs": [],
   "source": [
    "SIZE = 224\n",
    "base_model, model = get_resnet()\n",
    "test_ds, val_ds = get_dataset(False, SIZE, 1, 16, True)\n",
    "train_ds = get_dataset(True, SIZE, 1, 16, False)"
   ]
  },
  {
   "cell_type": "code",
   "execution_count": 61,
   "id": "b76d7197",
   "metadata": {},
   "outputs": [],
   "source": [
    "biasl = [\n",
    "    i\n",
    "    for i, l in enumerate(base_model.layers)\n",
    "    if (isinstance(l, Conv2D) and l.bias is not None)\n",
    "]"
   ]
  },
  {
   "cell_type": "code",
   "execution_count": 62,
   "id": "61e21d79",
   "metadata": {},
   "outputs": [
    {
     "name": "stdout",
     "output_type": "stream",
     "text": [
      "313/313 [==============================] - 18s 52ms/step - loss: 0.8715 - accuracy: 0.7398\n"
     ]
    }
   ],
   "source": [
    "model.compile(optimizer=\"SGD\", loss=\"categorical_crossentropy\", metrics=[\"accuracy\"])\n",
    "base_accuracy = model.evaluate(test_ds)[1]"
   ]
  },
  {
   "cell_type": "code",
   "execution_count": 147,
   "id": "b4a5040d",
   "metadata": {},
   "outputs": [],
   "source": [
    "def get_decomp_weight(layer):\n",
    "    (core, (first, last)), factors = partial_tucker(\n",
    "        layer.kernel.numpy(), modes=[2, 3], rank=[2, 4], init=\"svd\"\n",
    "    )\n",
    "    # print(f\"{core.shape=}, {first.shape=}, {last.shape=}\")\n",
    "    sz = np.prod(layer.output_shape[1:-1])\n",
    "    w1 = sz * np.prod(first.shape)\n",
    "    w2 = sz * np.prod(core.shape)\n",
    "    w3 = sz * np.prod(last.shape)\n",
    "    return w1 + w2 + w3"
   ]
  },
  {
   "cell_type": "code",
   "execution_count": 148,
   "id": "00c9c249",
   "metadata": {},
   "outputs": [
    {
     "data": {
      "application/vnd.jupyter.widget-view+json": {
       "model_id": "3faf76fb1e3049c1b75acdf220b4508c",
       "version_major": 2,
       "version_minor": 0
      },
      "text/plain": [
       "  0%|          | 0/53 [00:00<?, ?it/s]"
      ]
     },
     "metadata": {},
     "output_type": "display_data"
    }
   ],
   "source": [
    "dweights = []\n",
    "bweights = []\n",
    "for l in tqdm(biasl):\n",
    "    la = base_model.layers[l]\n",
    "    dweights.append(utils.get_weight(la))\n",
    "    bweights.append(get_decomp_weight(la))"
   ]
  },
  {
   "cell_type": "code",
   "execution_count": 149,
   "id": "9bc03009",
   "metadata": {},
   "outputs": [
    {
     "data": {
      "text/plain": [
       "0.01668858493389548"
      ]
     },
     "execution_count": 149,
     "metadata": {},
     "output_type": "execute_result"
    }
   ],
   "source": [
    "sum(bweights) / sum(dweights)"
   ]
  },
  {
   "cell_type": "code",
   "execution_count": 313,
   "id": "d741e99c",
   "metadata": {},
   "outputs": [],
   "source": [
    "def get_layer_model(layer, rank=1):\n",
    "    (core, (first, last)), rec_errors = partial_tucker(\n",
    "        layer.kernel.numpy(), modes=[2, 3], rank=rank, init=\"svd\", n_iter_max=1000\n",
    "    )\n",
    "    inp = tf.keras.layers.Input(shape=layer.input_shape[1:])\n",
    "    # print(rec_errors)\n",
    "    l1 = tf.keras.layers.Conv2D(\n",
    "        filters=first.shape[1],\n",
    "        kernel_size=(1, 1),\n",
    "        use_bias=False,\n",
    "        dilation_rate=layer.dilation_rate,\n",
    "        kernel_initializer=(\n",
    "            lambda x, dtype=None: tf.convert_to_tensor(np.expand_dims(first, [0, 1]))\n",
    "        ),\n",
    "    )(inp)\n",
    "    l2 = tf.keras.layers.Conv2D(\n",
    "        filters=core.shape[-1],\n",
    "        kernel_size=layer.kernel_size,\n",
    "        use_bias=False,\n",
    "        dilation_rate=layer.dilation_rate,\n",
    "        strides=layer.strides,\n",
    "        padding=layer.padding,\n",
    "        kernel_initializer=(lambda x, dtype=None: tf.convert_to_tensor(core)),\n",
    "    )(l1)\n",
    "    l3 = tf.keras.layers.Conv2D(\n",
    "        filters=last.shape[0],\n",
    "        kernel_size=(1, 1),\n",
    "        use_bias=True,\n",
    "        dilation_rate=layer.dilation_rate,\n",
    "        activation=layer.activation,\n",
    "        kernel_initializer=(\n",
    "            lambda x, dtype=None: tf.convert_to_tensor(\n",
    "                np.expand_dims(last.T, [0, 1]), layer.get_weights()[1]\n",
    "            )\n",
    "        ),\n",
    "        bias_initializer=(\n",
    "            lambda x, dtype=None: tf.convert_to_tensor(layer.get_weights()[1])\n",
    "        ),\n",
    "    )(l2)\n",
    "    return tf.keras.Model(inputs=inp, outputs=l3)"
   ]
  },
  {
   "cell_type": "code",
   "execution_count": 314,
   "id": "65d66302",
   "metadata": {},
   "outputs": [],
   "source": [
    "def get_tucker_layer(layer, rank=1):\n",
    "    (core, factors), rec_errors = partial_tucker(\n",
    "        layer.kernel.numpy(), modes=[2, 3], rank=rank, init=\"svd\", n_iter_max=1000\n",
    "    )\n",
    "    layer2 = copy_layer(layer)\n",
    "    ws = layer.get_weights()\n",
    "    ws[0] = tl.tenalg.multi_mode_dot(core, factors, modes=[2, 3])\n",
    "    layer2.set_weights(ws)\n",
    "    return layer2"
   ]
  },
  {
   "cell_type": "code",
   "execution_count": 335,
   "id": "8713cfa2",
   "metadata": {},
   "outputs": [
    {
     "name": "stdout",
     "output_type": "stream",
     "text": [
      "[0.42677014250302703, 0.42677014250302703, 0.42677014250302703]\n"
     ]
    }
   ],
   "source": [
    "o = [256, 256]\n",
    "n = get_layer_model(base_model.layers[biasl[-1]], o)\n",
    "l = get_tucker_layer(base_model.layers[biasl[-1]], o)"
   ]
  },
  {
   "cell_type": "code",
   "execution_count": 297,
   "id": "8bf4ba26",
   "metadata": {},
   "outputs": [],
   "source": [
    "rand = np.random.rand(1, *n.input_shape[1:])"
   ]
  },
  {
   "cell_type": "code",
   "execution_count": 298,
   "id": "96b10421",
   "metadata": {},
   "outputs": [],
   "source": [
    "out_test = n(rand)"
   ]
  },
  {
   "cell_type": "code",
   "execution_count": 299,
   "id": "27d87bc8",
   "metadata": {},
   "outputs": [],
   "source": [
    "out_test_2 = l(rand)"
   ]
  },
  {
   "cell_type": "code",
   "execution_count": 300,
   "id": "ac2ece34",
   "metadata": {},
   "outputs": [
    {
     "data": {
      "text/plain": [
       "(array([   8.,    6.,   16.,   35.,   70.,  110.,  185.,  421.,  865.,\n",
       "        4553., 1948.,  622.,  287.,  126.,   72.,   46.,   16.,   12.,\n",
       "           5.,    5.]),\n",
       " array([-0.67102438, -0.60225695, -0.53348958, -0.46472216, -0.39595476,\n",
       "        -0.32718736, -0.25841993, -0.18965253, -0.12088512, -0.05211771,\n",
       "         0.01664969,  0.0854171 ,  0.15418451,  0.22295192,  0.29171932,\n",
       "         0.36048675,  0.42925414,  0.49802154,  0.56678897,  0.63555634,\n",
       "         0.70432377]),\n",
       " <BarContainer object of 20 artists>)"
      ]
     },
     "execution_count": 300,
     "metadata": {},
     "output_type": "execute_result"
    },
    {
     "data": {
      "image/png": "[encoded data removed]",
      "text/plain": [
       "<Figure size 640x480 with 1 Axes>"
      ]
     },
     "metadata": {},
     "output_type": "display_data"
    }
   ],
   "source": [
    "plt.hist((base_model.layers[biasl[0]].kernel).numpy().flatten(), bins=20)"
   ]
  },
  {
   "cell_type": "code",
   "execution_count": 301,
   "id": "a2516dd3",
   "metadata": {},
   "outputs": [
    {
     "data": {
      "text/plain": [
       "(array([1.000e+00, 0.000e+00, 0.000e+00, 5.000e+00, 5.000e+00, 1.800e+01,\n",
       "        3.800e+01, 8.000e+01, 2.070e+02, 5.810e+02, 1.823e+03, 4.753e+03,\n",
       "        1.170e+03, 4.250e+02, 1.850e+02, 7.100e+01, 2.200e+01, 1.700e+01,\n",
       "        6.000e+00, 1.000e+00]),\n",
       " array([-0.61412662, -0.55997527, -0.50582385, -0.45167246, -0.39752108,\n",
       "        -0.34336972, -0.28921834, -0.23506694, -0.18091556, -0.12676418,\n",
       "        -0.07261279, -0.01846141,  0.03568997,  0.08984136,  0.14399274,\n",
       "         0.19814412,  0.25229549,  0.30644688,  0.36059827,  0.41474965,\n",
       "         0.46890104]),\n",
       " <BarContainer object of 20 artists>)"
      ]
     },
     "execution_count": 301,
     "metadata": {},
     "output_type": "execute_result"
    },
    {
     "data": {
      "image/png": "[encoded data removed]",
      "text/plain": [
       "<Figure size 640x480 with 1 Axes>"
      ]
     },
     "metadata": {},
     "output_type": "display_data"
    }
   ],
   "source": [
    "plt.hist((l.kernel - base_model.layers[biasl[0]].kernel).numpy().flatten(), bins=20)"
   ]
  },
  {
   "cell_type": "code",
   "execution_count": 289,
   "id": "2aa4c89f",
   "metadata": {},
   "outputs": [
    {
     "data": {
      "text/plain": [
       "<tf.Tensor: shape=(1, 112, 112, 64), dtype=float32, numpy=\n",
       "array([[[[ 3.79234552e-05, -9.95397568e-06, -3.51620838e-06, ...,\n",
       "           6.03497028e-06,  1.29565597e-05,  1.94460154e-05],\n",
       "         [-2.50339508e-06, -2.20686197e-05,  8.99843872e-06, ...,\n",
       "           1.92970037e-06, -9.20146704e-06,  8.72612000e-05],\n",
       "         [ 3.02672386e-04, -1.00359321e-05,  4.75905836e-06, ...,\n",
       "           4.63798642e-06, -2.68220901e-06, -1.49965286e-04],\n",
       "         ...,\n",
       "         [ 2.46435404e-04,  5.60283661e-06,  3.95043753e-06, ...,\n",
       "           2.59354711e-05,  6.03776425e-06, -6.10053539e-05],\n",
       "         [ 6.06104732e-05,  1.43423676e-06, -8.43778253e-07, ...,\n",
       "           3.79607081e-06,  8.73953104e-06,  8.56518745e-05],\n",
       "         [ 1.01968646e-04, -4.75719571e-06,  5.81052154e-06, ...,\n",
       "           9.53674316e-06, -3.46451998e-06,  2.54064798e-05]],\n",
       "\n",
       "        [[-7.00503588e-05,  1.74809247e-06,  2.37487257e-07, ...,\n",
       "           3.29921022e-06,  9.76026058e-07,  7.30156898e-05],\n",
       "         [ 1.28269196e-04,  5.49480319e-07, -7.80262053e-06, ...,\n",
       "           6.50435686e-06,  9.27224755e-06, -5.32627106e-04],\n",
       "         [ 8.54730606e-05, -3.14414501e-06, -6.32833689e-07, ...,\n",
       "           3.58559191e-06,  6.38701022e-06, -4.53740358e-05],\n",
       "         ...,\n",
       "         [ 6.52223825e-05, -1.31484121e-05,  3.60608101e-06, ...,\n",
       "           1.00210309e-06, -8.62404704e-06,  1.22450292e-05],\n",
       "         [ 1.94236636e-05,  2.77347863e-06, -6.00144267e-06, ...,\n",
       "          -3.24100256e-06,  1.33514404e-05, -1.23269856e-05],\n",
       "         [-5.74439764e-05, -1.09262764e-05,  3.07150185e-06, ...,\n",
       "          -3.65881715e-06, -7.46548176e-06, -2.14725733e-05]],\n",
       "\n",
       "        [[ 2.71089375e-05,  2.80663371e-05, -1.37779862e-05, ...,\n",
       "           8.85501504e-06,  2.31117010e-05, -3.07857990e-05],\n",
       "         [ 1.34427100e-05, -4.91738319e-07, -3.04356217e-06, ...,\n",
       "          -1.29863620e-05, -3.03238630e-06,  7.44946301e-05],\n",
       "         [-1.31130219e-05,  1.90362334e-06, -4.20026481e-06, ...,\n",
       "           1.35973096e-07,  7.97212124e-07,  1.35153532e-04],\n",
       "         ...,\n",
       "         [ 1.06394291e-05, -1.29714608e-05, -1.11386180e-06, ...,\n",
       "          -3.07708979e-06,  9.18656588e-06,  8.97049904e-06],\n",
       "         [ 2.05636024e-06,  8.64267349e-06, -2.61422247e-06, ...,\n",
       "          -1.76951289e-06,  3.01562250e-06, -1.18203461e-05],\n",
       "         [ 3.74317169e-05,  2.49370933e-05, -1.27442181e-05, ...,\n",
       "           1.86730176e-06,  3.10763717e-05, -1.06453896e-04]],\n",
       "\n",
       "        ...,\n",
       "\n",
       "        [[ 1.09374523e-05, -1.02669001e-05,  8.54022801e-07, ...,\n",
       "          -6.40004873e-06,  4.88944352e-06, -7.20173120e-05],\n",
       "         [ 1.38841569e-04, -5.94556332e-06,  3.19629908e-06, ...,\n",
       "           6.91693276e-06, -1.81607902e-06, -2.14636326e-04],\n",
       "         [ 6.79790974e-05, -1.36122108e-05,  7.25725295e-06, ...,\n",
       "           1.17160380e-05, -2.73250043e-06, -4.11570072e-05],\n",
       "         ...,\n",
       "         [-7.03334808e-06, -1.57579780e-05,  7.58282840e-06, ...,\n",
       "           2.12341547e-06, -1.38096511e-05,  1.37090683e-06],\n",
       "         [ 1.06090680e-04, -1.92224979e-06,  7.85663724e-06, ...,\n",
       "           7.86408782e-06, -7.38725066e-06, -1.11460686e-05],\n",
       "         [ 8.00192356e-05, -5.65499067e-06,  1.01421028e-06, ...,\n",
       "           1.40629709e-07,  3.38209793e-06, -1.13844872e-04]],\n",
       "\n",
       "        [[ 4.36604023e-06,  1.30981207e-05, -4.86196950e-06, ...,\n",
       "           1.61584467e-06,  7.96653330e-06,  2.98023224e-08],\n",
       "         [ 1.69634819e-04, -1.14366412e-06, -3.12179327e-06, ...,\n",
       "          -1.35973096e-05,  1.87009573e-06, -2.32703984e-04],\n",
       "         [-7.84695148e-05, -2.73901969e-06, -3.73367220e-06, ...,\n",
       "           2.07684934e-05,  5.59166074e-06,  1.50710344e-04],\n",
       "         ...,\n",
       "         [ 4.29302454e-05, -4.91365790e-05,  1.27423555e-05, ...,\n",
       "          -1.28857791e-05, -2.30446458e-05,  1.62050128e-05],\n",
       "         [-4.06503677e-05, -2.92509794e-05,  3.71644273e-06, ...,\n",
       "          -1.56462193e-06,  4.49735671e-06,  1.57952309e-06],\n",
       "         [-5.07161021e-05, -3.43173742e-05,  1.40555203e-05, ...,\n",
       "          -6.41774386e-06, -3.38554382e-05,  2.70605087e-05]],\n",
       "\n",
       "        [[ 2.73436308e-05,  1.59218907e-05, -8.29622149e-06, ...,\n",
       "          -7.14464113e-06,  1.40666962e-05,  1.32337213e-04],\n",
       "         [-1.99973583e-05,  2.05002725e-05, -1.79931521e-06, ...,\n",
       "           1.93715096e-06,  1.14366412e-06, -1.01000071e-04],\n",
       "         [ 3.14824283e-05, -2.13831663e-06, -1.39512122e-06, ...,\n",
       "           4.66592610e-07, -2.30222940e-06,  2.74702907e-05],\n",
       "         ...,\n",
       "         [-1.14381313e-04, -1.28522515e-05,  7.98609108e-07, ...,\n",
       "          -6.51925802e-07,  6.30225986e-06,  5.80251217e-05],\n",
       "         [ 9.09268856e-05, -2.20648944e-05,  3.84636223e-06, ...,\n",
       "          -2.89827585e-06, -6.06477261e-06, -6.40749931e-05],\n",
       "         [ 5.37037849e-05, -3.15159559e-06,  4.23938036e-06, ...,\n",
       "           1.24648213e-05, -1.35600567e-06, -3.64854932e-05]]]],\n",
       "      dtype=float32)>"
      ]
     },
     "execution_count": 289,
     "metadata": {},
     "output_type": "execute_result"
    }
   ],
   "source": [
    "out_test - out_test_2"
   ]
  },
  {
   "cell_type": "code",
   "execution_count": 122,
   "id": "2118ee98",
   "metadata": {},
   "outputs": [],
   "source": [
    "def test_propagate(layer):\n",
    "    in_shape = (1,) + layer.input_shape[1:]\n",
    "    csts = tf.random.uniform(in_shape, dtype=tf.float16)\n",
    "    mask = tf.cast(tf.random.uniform(in_shape, minval=0, maxval=1) > 0.8, tf.float16)\n",
    "    prop = csts * mask\n",
    "    inputs1 = [tf.random.uniform(in_shape, dtype=tf.float16) for _ in range(10)]\n",
    "    inputs2 = [inp + prop for inp in inputs1]\n",
    "    next_layer = layer.outbound_nodes[0].outbound_layer\n",
    "    model2 = tf.keras.Model(inputs=layer.input, outputs=next_layer.output)\n",
    "    outputs2 = [model2(inp) for inp in inputs2]\n",
    "    watif = [model2(inp) for inp in inputs1]\n",
    "    propagate_constants(layer, prop)\n",
    "    outputs1 = [model2(inp) for inp in inputs1]\n",
    "    for i, j, k in zip(outputs1, outputs2, watif):\n",
    "        print(f\"AFTER PROP {tf.math.reduce_max(tf.math.abs(i - j)).numpy()}\")\n",
    "        print(f\"BEFORE PROP {tf.math.reduce_max(tf.math.abs(i - k)).numpy()}\")\n",
    "    print(\"TEST PASSED?\")"
   ]
  },
  {
   "cell_type": "code",
   "execution_count": 9,
   "id": "7b43bb46",
   "metadata": {},
   "outputs": [],
   "source": [
    "ws = base_model.layers[biasl[-2]].get_weights()\n",
    "default_w = ws[0]"
   ]
  },
  {
   "cell_type": "code",
   "execution_count": 16,
   "id": "2868f20a",
   "metadata": {},
   "outputs": [
    {
     "name": "stdout",
     "output_type": "stream",
     "text": [
      "New kernel shapes: U.shape=(9, 1), S.shape=(1,), V.shape=(1, 262144)\n"
     ]
    }
   ],
   "source": [
    "approx_kernel, cr, (u, s, v) = svd_decomposition(default_w, 1)\n",
    "ws[0] = approx_kernel\n",
    "base_model.layers[biasl[-2]].set_weights(ws)"
   ]
  },
  {
   "cell_type": "code",
   "execution_count": 24,
   "id": "1f3fd9bf",
   "metadata": {},
   "outputs": [
    {
     "data": {
      "text/plain": [
       "array([[-4.0729094],\n",
       "       [-4.8545084],\n",
       "       [-4.3433247],\n",
       "       [-5.0536504],\n",
       "       [-5.1451955],\n",
       "       [-5.3172846],\n",
       "       [-4.239249 ],\n",
       "       [-5.057133 ],\n",
       "       [-4.522453 ]], dtype=float32)"
      ]
     },
     "execution_count": 24,
     "metadata": {},
     "output_type": "execute_result"
    }
   ],
   "source": [
    "u[:, :1] * s[:1]"
   ]
  },
  {
   "cell_type": "code",
   "execution_count": 46,
   "id": "4433e2f0",
   "metadata": {},
   "outputs": [],
   "source": []
  },
  {
   "cell_type": "code",
   "execution_count": 55,
   "id": "4d6b26a5",
   "metadata": {},
   "outputs": [
    {
     "data": {
      "text/plain": [
       "<tf.Variable 'conv2_block1_2_conv/kernel:0' shape=(3, 3, 64, 64) dtype=float32, numpy=\n",
       "array([[[[-1.75736193e-02,  5.30902483e-03, -1.39113341e-03, ...,\n",
       "           5.26035437e-03,  1.13041867e-02,  7.81980902e-03],\n",
       "         [ 1.58271659e-02,  2.15779664e-03,  4.06789873e-03, ...,\n",
       "          -2.23483983e-03,  1.00913979e-02,  4.85334499e-03],\n",
       "         [-1.30726518e-02,  2.56767496e-02, -7.79045234e-03, ...,\n",
       "          -5.96159091e-03, -1.94626406e-03,  9.13294684e-03],\n",
       "         ...,\n",
       "         [-1.00161415e-03, -1.68226101e-02, -7.01747695e-03, ...,\n",
       "          -3.64999543e-03, -1.23976739e-02,  1.09428251e-02],\n",
       "         [ 2.42481381e-03,  4.87048645e-03, -1.29142514e-04, ...,\n",
       "          -1.15170479e-02,  8.64238536e-04,  9.28544253e-03],\n",
       "         [ 1.64120905e-02, -2.74309777e-02,  7.04734474e-02, ...,\n",
       "          -1.74898170e-02, -1.75631884e-02, -1.10414233e-02]],\n",
       "\n",
       "        [[-4.21591802e-04, -1.88555699e-02,  2.51010805e-02, ...,\n",
       "           9.49396659e-03,  8.29766598e-03,  6.49292720e-03],\n",
       "         [ 2.41483934e-02, -5.17055392e-04,  1.17678130e-02, ...,\n",
       "          -9.05538443e-04,  1.33840432e-02,  1.20363124e-02],\n",
       "         [-4.74977214e-03,  3.98213826e-02, -3.86662781e-03, ...,\n",
       "          -5.16879186e-03, -5.36451023e-03,  5.76362992e-03],\n",
       "         ...,\n",
       "         [ 5.91057912e-03,  2.73657013e-02, -1.05836624e-02, ...,\n",
       "          -3.05490978e-02, -4.72052954e-03,  3.43004167e-02],\n",
       "         [-8.78417213e-03, -1.72452778e-02,  2.77128592e-02, ...,\n",
       "          -1.69814657e-02,  2.72874883e-03, -1.94095150e-02],\n",
       "         [ 2.15031859e-02, -2.44094841e-02, -1.40404450e-02, ...,\n",
       "           3.51411030e-02, -3.61361504e-02,  1.86955258e-02]],\n",
       "\n",
       "        [[ 2.03757174e-03, -9.22457408e-03,  6.80623017e-03, ...,\n",
       "          -2.11098026e-02,  2.42752978e-03, -1.77292377e-02],\n",
       "         [ 5.61179360e-03, -3.01357750e-02,  5.12193283e-03, ...,\n",
       "          -2.27124598e-02, -2.37850146e-03, -1.62529480e-02],\n",
       "         [ 8.90851580e-03,  2.91667450e-02, -2.88508832e-03, ...,\n",
       "           9.66609735e-03, -3.33319814e-03,  5.45985624e-03],\n",
       "         ...,\n",
       "         [ 4.29741573e-04,  1.93702001e-02, -1.76130270e-03, ...,\n",
       "           1.39724072e-02,  2.79879756e-03,  5.02475398e-03],\n",
       "         [-3.52359260e-03, -1.16804764e-02,  2.31532566e-02, ...,\n",
       "          -3.84446383e-02, -1.47671509e-03, -8.48795008e-03],\n",
       "         [ 1.29080620e-02, -5.03661409e-02,  3.88622582e-02, ...,\n",
       "           7.54634617e-03, -3.44950659e-03, -1.06823817e-02]]],\n",
       "\n",
       "\n",
       "       [[[-4.73754946e-03,  1.24758221e-02, -9.32007446e-04, ...,\n",
       "          -1.02879675e-02,  8.66115186e-03,  2.08715070e-02],\n",
       "         [ 2.57020593e-02, -1.85781233e-02, -9.30722430e-03, ...,\n",
       "          -1.16432691e-02, -7.00276485e-03,  1.13546085e-02],\n",
       "         [ 5.77158574e-03,  2.17343811e-02,  1.51648670e-02, ...,\n",
       "           3.82761359e-02,  5.66518027e-03,  6.71356730e-03],\n",
       "         ...,\n",
       "         [ 1.67855229e-02,  2.37638820e-02, -1.66175188e-03, ...,\n",
       "          -5.29791601e-03, -2.87471935e-02,  9.83362552e-04],\n",
       "         [ 1.53277684e-02,  1.04338862e-02, -1.29188281e-02, ...,\n",
       "          -1.10459616e-02,  1.18043239e-03,  8.73191468e-03],\n",
       "         [ 1.37083512e-02, -3.69761623e-02,  1.49213551e-02, ...,\n",
       "           1.74464732e-02, -1.63993286e-03, -3.54796574e-02]],\n",
       "\n",
       "        [[ 2.66723949e-02,  6.03306368e-02, -3.86994630e-02, ...,\n",
       "           1.76745765e-02, -8.69441126e-03, -1.01568494e-02],\n",
       "         [ 6.86438233e-02, -1.17470779e-01,  2.52352766e-04, ...,\n",
       "           5.44779235e-03, -2.35571396e-02, -3.73548530e-02],\n",
       "         [ 8.29617213e-03,  1.36912137e-01, -1.54208345e-03, ...,\n",
       "           5.53745776e-02, -1.71662737e-02,  2.81592831e-02],\n",
       "         ...,\n",
       "         [ 4.56453115e-02,  8.00307766e-02, -4.89282794e-03, ...,\n",
       "          -5.46946786e-02, -2.90819947e-02,  3.39935385e-02],\n",
       "         [ 1.99335031e-02, -1.00639910e-01, -2.62763426e-02, ...,\n",
       "           2.51681432e-02, -2.86812950e-02, -4.65761758e-02],\n",
       "         [-8.53327801e-04,  6.92326650e-02,  2.54966468e-02, ...,\n",
       "           2.50744950e-02,  1.25139449e-02,  1.00877926e-01]],\n",
       "\n",
       "        [[ 7.20764324e-03,  3.22030559e-02, -2.17252076e-02, ...,\n",
       "          -2.51608156e-02,  1.77426671e-03, -1.49392127e-03],\n",
       "         [ 2.92696077e-02, -5.80271930e-02, -1.15090758e-02, ...,\n",
       "          -1.01037947e-02, -1.30721508e-02, -2.29199454e-02],\n",
       "         [ 5.92677062e-03,  6.68231472e-02,  1.20352879e-02, ...,\n",
       "           4.24807258e-02,  2.95355974e-04,  9.21587646e-03],\n",
       "         ...,\n",
       "         [ 1.16075967e-02,  2.49584783e-02,  2.12725308e-02, ...,\n",
       "          -3.08430344e-02, -8.45180731e-03,  1.48387589e-02],\n",
       "         [ 2.11424604e-02, -1.29913567e-02,  1.36420988e-02, ...,\n",
       "          -1.16023596e-03, -1.04213897e-02, -3.01422132e-03],\n",
       "         [ 8.66615307e-03, -4.41488288e-02,  8.97090044e-03, ...,\n",
       "          -1.02133499e-02, -2.11655628e-02,  4.76397574e-02]]],\n",
       "\n",
       "\n",
       "       [[[ 6.24190737e-03, -1.31561020e-02, -5.06123528e-03, ...,\n",
       "           3.44802649e-03,  1.54941122e-03,  6.25012536e-03],\n",
       "         [ 9.25580785e-03, -1.95852295e-02, -2.38255970e-02, ...,\n",
       "          -2.28160061e-02, -5.71409473e-03, -5.78453438e-03],\n",
       "         [ 1.97864380e-02,  3.05355899e-03, -9.72334482e-03, ...,\n",
       "           1.45542687e-02,  4.71319631e-03, -6.34637987e-03],\n",
       "         ...,\n",
       "         [ 1.99386347e-02,  8.19711015e-03, -1.89170204e-02, ...,\n",
       "          -1.28546800e-03, -2.06042677e-02,  7.58508500e-03],\n",
       "         [ 7.97638483e-03, -1.22067966e-02, -1.10911038e-02, ...,\n",
       "          -3.33610810e-02, -9.91097622e-05, -1.34336827e-02],\n",
       "         [ 9.73560475e-03,  1.00330096e-02,  6.90165535e-02, ...,\n",
       "           2.20103236e-03, -3.96560319e-03, -2.57948693e-02]],\n",
       "\n",
       "        [[ 1.69004779e-02,  4.34359983e-02, -3.37533876e-02, ...,\n",
       "           4.16948646e-02, -5.25208749e-03,  2.32018325e-02],\n",
       "         [ 4.73687910e-02, -2.79723480e-02, -3.06312013e-02, ...,\n",
       "           1.68599207e-02, -1.10381860e-02, -6.91540819e-03],\n",
       "         [ 3.93790798e-03,  1.02212362e-01, -1.22798821e-02, ...,\n",
       "           2.24545207e-02, -1.50091155e-02,  9.06012766e-03],\n",
       "         ...,\n",
       "         [ 3.48084569e-02,  3.56361978e-02, -8.08948930e-03, ...,\n",
       "          -6.07773475e-03, -1.56052867e-02,  2.51848269e-02],\n",
       "         [ 9.69731156e-03, -2.38882788e-02, -3.32427099e-02, ...,\n",
       "          -1.13743916e-02, -2.01692153e-02, -2.95270029e-02],\n",
       "         [-3.85291874e-03, -6.15813173e-02,  1.07658990e-01, ...,\n",
       "          -1.45156207e-02, -6.75185164e-03, -3.31402346e-02]],\n",
       "\n",
       "        [[-8.30939785e-03,  4.23168465e-02, -2.29354799e-02, ...,\n",
       "           6.35442557e-04,  7.76138681e-04,  6.10624300e-03],\n",
       "         [ 2.73021422e-02, -1.40867857e-02, -2.22706366e-02, ...,\n",
       "           3.32518038e-03, -1.24205984e-02, -3.00747924e-03],\n",
       "         [ 2.23720330e-03,  4.47638370e-02,  1.89810209e-02, ...,\n",
       "           7.74468761e-03, -3.57209053e-03, -3.20952609e-02],\n",
       "         ...,\n",
       "         [ 1.49672094e-03,  1.49478372e-02,  1.49352476e-02, ...,\n",
       "          -5.66635048e-04, -7.99798314e-03,  1.90399904e-02],\n",
       "         [ 1.91695262e-02,  7.84393400e-03, -3.23850382e-03, ...,\n",
       "           9.91169922e-03, -6.58677379e-03, -6.56848587e-03],\n",
       "         [ 7.45017175e-03, -7.64001459e-02,  1.34265959e-01, ...,\n",
       "          -4.96125072e-02,  1.15020294e-02, -1.06707485e-02]]]],\n",
       "      dtype=float32)>"
      ]
     },
     "execution_count": 55,
     "metadata": {},
     "output_type": "execute_result"
    }
   ],
   "source": [
    "base_model.layers[biasl[2]].kernel"
   ]
  },
  {
   "cell_type": "code",
   "execution_count": 50,
   "id": "9f5bf8fa",
   "metadata": {},
   "outputs": [
    {
     "name": "stdout",
     "output_type": "stream",
     "text": [
      "0.000529975839612154\n",
      "0.0005181130749322074\n"
     ]
    },
    {
     "data": {
      "text/plain": [
       "[2, 1]"
      ]
     },
     "execution_count": 50,
     "metadata": {},
     "output_type": "execute_result"
    }
   ],
   "source": [
    "estimate_ranks(base_model.layers[biasl[2]])"
   ]
  },
  {
   "cell_type": "code",
   "execution_count": 43,
   "id": "95fa220a",
   "metadata": {},
   "outputs": [
    {
     "name": "stdout",
     "output_type": "stream",
     "text": [
      "313/313 [==============================] - 17s 52ms/step - loss: 1.1930 - accuracy: 0.6766\n"
     ]
    },
    {
     "data": {
      "text/plain": [
       "0.6765999794006348"
      ]
     },
     "execution_count": 43,
     "metadata": {},
     "output_type": "execute_result"
    }
   ],
   "source": [
    "model.compile(optimizer=\"SGD\", loss=\"categorical_crossentropy\", metrics=[\"accuracy\"])\n",
    "model.evaluate(test_ds)[1]"
   ]
  },
  {
   "cell_type": "code",
   "execution_count": 9,
   "id": "fd2a6944",
   "metadata": {},
   "outputs": [
    {
     "data": {
      "text/plain": [
       "<tf.Variable 'conv1_conv/bias:0' shape=(64,) dtype=float32, numpy=\n",
       "array([ 1.5829111e-09, -1.9272978e-10,  1.4708530e-10, -3.3394246e-11,\n",
       "       -1.0394472e-09, -2.2981408e-09, -5.2869503e-10, -3.1592794e-11,\n",
       "        1.8323251e-10, -4.9787726e-12,  2.1595645e-09, -1.3711804e-10,\n",
       "       -1.2207793e-09, -1.8223448e-09, -2.4185174e-09, -6.8378503e-10,\n",
       "       -4.4311914e-09,  4.9836388e-09, -3.2121539e-09,  2.0617887e-09,\n",
       "        2.9162595e-09, -3.3172360e-09,  2.6172473e-10,  1.2767545e-10,\n",
       "       -4.1365911e-09,  3.1397021e-10,  9.8183450e-10,  2.9085953e-10,\n",
       "       -2.2326749e-09, -3.5986544e-11,  1.9345316e-09,  2.4486041e-10,\n",
       "       -3.2064138e-09, -4.0993042e-10, -2.3597533e-09,  2.2365207e-10,\n",
       "        5.3403926e-09, -2.1422985e-11,  3.5645006e-10,  2.6985592e-09,\n",
       "        1.2312432e-09, -6.6246014e-10,  2.1508149e-09, -5.1568672e-10,\n",
       "        7.6417521e-09,  3.6630692e-11,  1.2633139e-09,  1.3274220e-09,\n",
       "       -3.3828521e-10,  9.2130364e-10,  1.1556998e-09,  6.8426276e-10,\n",
       "        1.1804819e-09, -1.1490321e-09,  9.6437758e-10,  3.3418340e-10,\n",
       "        2.5392918e-10, -2.4667539e-09, -1.4590341e-09, -3.2370850e-09,\n",
       "        2.3077633e-09,  6.9913663e-12, -1.0832873e-09, -6.6219047e-10],\n",
       "      dtype=float32)>"
      ]
     },
     "execution_count": 9,
     "metadata": {},
     "output_type": "execute_result"
    }
   ],
   "source": [
    "base_model.layers[biasl[0]].weights[1]"
   ]
  },
  {
   "cell_type": "code",
   "execution_count": 10,
   "id": "83a5a910",
   "metadata": {},
   "outputs": [],
   "source": [
    "ws = base_model.layers[biasl[2]].weights[0][0, 0].numpy()\n",
    "U, s, Vt = np.linalg.svd(ws)\n",
    "\n",
    "u = U[:, 0]\n",
    "v = Vt[0, :]\n",
    "\n",
    "uv_outer = np.outer(u, v)"
   ]
  },
  {
   "cell_type": "code",
   "execution_count": 11,
   "id": "748cccd5",
   "metadata": {},
   "outputs": [
    {
     "data": {
      "application/vnd.jupyter.widget-view+json": {
       "model_id": "49d71d5a08fc409389c03ff2e16f26a4",
       "version_major": 2,
       "version_minor": 0
      },
      "text/plain": [
       "  0%|          | 0/3125 [00:00<?, ?it/s]"
      ]
     },
     "metadata": {},
     "output_type": "display_data"
    }
   ],
   "source": [
    "m2 = tf.keras.Model(\n",
    "    inputs=base_model.input, outputs=base_model.layers[biasl[18]].output\n",
    ")\n",
    "m1 = tf.keras.Model(inputs=model.input, outputs=model.layers[0].output)\n",
    "m2 = m2(m1.output)\n",
    "ftr_model = tf.keras.Model(m1.input, m2)\n",
    "tot = 0\n",
    "base_sum = tf.zeros(ftr_model.output_shape[1:])\n",
    "for i, _ in tqdm(train_ds):\n",
    "    base_sum += tf.reduce_sum(ftr_model(i), axis=0)\n",
    "    tot += 8"
   ]
  },
  {
   "cell_type": "code",
   "execution_count": 12,
   "id": "8be12eba",
   "metadata": {},
   "outputs": [
    {
     "data": {
      "application/vnd.jupyter.widget-view+json": {
       "model_id": "dbac271761a940fe83c6c1df2607298c",
       "version_major": 2,
       "version_minor": 0
      },
      "text/plain": [
       "  0%|          | 0/3125 [00:00<?, ?it/s]"
      ]
     },
     "metadata": {},
     "output_type": "display_data"
    }
   ],
   "source": [
    "mn = base_sum / tot\n",
    "base_var = tf.zeros(ftr_model.output_shape[1:])\n",
    "for i, _ in tqdm(train_ds):\n",
    "    base_var += (tf.reduce_sum(ftr_model(i), axis=0) - mn) ** 2"
   ]
  },
  {
   "cell_type": "code",
   "execution_count": 105,
   "id": "f622600e",
   "metadata": {},
   "outputs": [],
   "source": []
  },
  {
   "cell_type": "code",
   "execution_count": 111,
   "id": "c0e8a058",
   "metadata": {},
   "outputs": [],
   "source": []
  },
  {
   "cell_type": "code",
   "execution_count": 112,
   "id": "4d4c3c04",
   "metadata": {},
   "outputs": [],
   "source": []
  },
  {
   "cell_type": "code",
   "execution_count": 17,
   "id": "ec0c8052",
   "metadata": {},
   "outputs": [],
   "source": [
    "std = (base_var ** (1 / 2)).numpy()"
   ]
  },
  {
   "cell_type": "code",
   "execution_count": 104,
   "id": "9e6186ee",
   "metadata": {},
   "outputs": [],
   "source": []
  },
  {
   "cell_type": "code",
   "execution_count": 99,
   "id": "a7aaf06a",
   "metadata": {},
   "outputs": [
    {
     "name": "stdout",
     "output_type": "stream",
     "text": [
      "Explained variances: [0.76941519 0.88716981 0.93055049 0.95311582 0.97054633 0.98036249\n",
      " 0.9882492  0.99432757 1.        ]\n"
     ]
    },
    {
     "data": {
      "image/png": "[encoded data removed]",
      "text/plain": [
       "<Figure size 640x480 with 2 Axes>"
      ]
     },
     "metadata": {},
     "output_type": "display_data"
    }
   ],
   "source": [
    "from sklearn.decomposition import PCA\n",
    "\n",
    "num = 19\n",
    "ws = base_model.layers[biasl[-2]].kernel.numpy().reshape(9, 512 * 512)\n",
    "pca = PCA(n_components=9)\n",
    "X_pca = pca.fit_transform(ws.T)\n",
    "fig, ax = plt.subplots()\n",
    "scatter = ax.scatter(\n",
    "    X_pca[:, 0], X_pca[:, 1], c=X_pca[:, 2], alpha=1, s=0.0000005 * 10000000\n",
    ")\n",
    "ax.scatter(X_pca[num::512, 0], X_pca[num::512, 1], c=\"r\", alpha=0.01, s=0.003)\n",
    "cbar = plt.colorbar(scatter)\n",
    "print(\"Explained variances:\", np.cumsum(pca.explained_variance_ratio_))"
   ]
  },
  {
   "cell_type": "code",
   "execution_count": 40,
   "id": "7031cad4",
   "metadata": {},
   "outputs": [],
   "source": [
    "rat = []\n",
    "for l in biasl:\n",
    "    ker = base_model.layers[l].kernel.numpy()\n",
    "    for i in range(ker.shape[-1]):\n",
    "        rat.append(ker[..., i].mean() / ker[..., i].std())"
   ]
  },
  {
   "cell_type": "code",
   "execution_count": 55,
   "id": "da1cc1da",
   "metadata": {},
   "outputs": [],
   "source": [
    "rat = []\n",
    "for l in biasl:\n",
    "    ker = base_model.layers[l].kernel.numpy()\n",
    "    lst = []\n",
    "    for i in range(ker.shape[-1]):\n",
    "        lst.append(ker[..., i].std())\n",
    "    rat.append(lst)"
   ]
  },
  {
   "cell_type": "code",
   "execution_count": 62,
   "id": "f6888626",
   "metadata": {},
   "outputs": [
    {
     "data": {
      "text/plain": [
       "0.024125"
      ]
     },
     "execution_count": 62,
     "metadata": {},
     "output_type": "execute_result"
    }
   ],
   "source": [
    "max(min(a) for a in rat)"
   ]
  },
  {
   "cell_type": "code",
   "execution_count": 48,
   "id": "8be63601",
   "metadata": {},
   "outputs": [
    {
     "data": {
      "text/plain": [
       "(array([1.000e+00, 0.000e+00, 1.000e+00, 1.000e+00, 3.000e+00, 6.000e+00,\n",
       "        2.000e+00, 3.000e+00, 5.000e+00, 1.000e+01, 1.300e+01, 2.600e+01,\n",
       "        6.000e+01, 8.700e+01, 1.740e+02, 3.830e+02, 6.880e+02, 1.394e+03,\n",
       "        3.175e+03, 5.600e+03, 7.464e+03, 4.393e+03, 1.501e+03, 7.030e+02,\n",
       "        3.660e+02, 2.000e+02, 1.350e+02, 6.500e+01, 3.000e+01, 2.700e+01,\n",
       "        1.700e+01, 8.000e+00, 7.000e+00, 2.000e+00, 4.000e+00, 1.000e+00,\n",
       "        0.000e+00, 1.000e+00, 0.000e+00, 1.000e+00, 0.000e+00, 0.000e+00,\n",
       "        0.000e+00, 1.000e+00, 0.000e+00, 1.000e+00, 0.000e+00, 0.000e+00,\n",
       "        0.000e+00, 1.000e+00]),\n",
       " array([-0.88561571, -0.84392452, -0.80223334, -0.76054215, -0.71885091,\n",
       "        -0.67715973, -0.63546854, -0.59377736, -0.55208617, -0.51039499,\n",
       "        -0.46870378, -0.42701256, -0.38532138, -0.34363019, -0.30193901,\n",
       "        -0.2602478 , -0.21855661, -0.17686541, -0.13517421, -0.09348303,\n",
       "        -0.05179184, -0.01010064,  0.03159055,  0.07328174,  0.11497294,\n",
       "         0.15666413,  0.19835533,  0.24004652,  0.28173772,  0.3234289 ,\n",
       "         0.36512011,  0.4068113 ,  0.44850248,  0.49019369,  0.53188485,\n",
       "         0.57357609,  0.61526728,  0.65695846,  0.69864964,  0.74034083,\n",
       "         0.78203201,  0.82372326,  0.86541444,  0.90710562,  0.94879681,\n",
       "         0.99048799,  1.03217924,  1.07387042,  1.1155616 ,  1.15725279,\n",
       "         1.19894397]),\n",
       " <BarContainer object of 50 artists>)"
      ]
     },
     "execution_count": 48,
     "metadata": {},
     "output_type": "execute_result"
    },
    {
     "data": {
      "image/png": "[encoded data removed]",
      "text/plain": [
       "<Figure size 640x480 with 1 Axes>"
      ]
     },
     "metadata": {},
     "output_type": "display_data"
    }
   ],
   "source": [
    "plt.hist(rat, bins=50)"
   ]
  },
  {
   "cell_type": "code",
   "execution_count": 21,
   "id": "e15cede6",
   "metadata": {},
   "outputs": [
    {
     "data": {
      "text/plain": [
       "array([[[1402.0634 ,  277.05515,  856.8213 ],\n",
       "        [ 906.4848 ,  627.8533 ,  224.79303],\n",
       "        [1004.0381 ,  792.38617,  171.6554 ],\n",
       "        ...,\n",
       "        [ 888.09143,  842.8633 ,  243.39551],\n",
       "        [ 590.5929 ,  702.4002 ,  197.15424],\n",
       "        [1375.5848 ,  902.0505 ,  368.6678 ]],\n",
       "\n",
       "       [[ 454.10706,  238.71103,  688.17285],\n",
       "        [ 230.7523 ,  276.0608 ,  253.06094],\n",
       "        [ 338.90662,  565.8981 ,  234.01831],\n",
       "        ...,\n",
       "        [ 208.54507,  683.36755,  196.0076 ],\n",
       "        [ 351.86945,  423.21213,  379.8189 ],\n",
       "        [ 108.47937,  580.71344,  167.1974 ]],\n",
       "\n",
       "       [[ 513.841  ,  226.74687,  515.8181 ],\n",
       "        [ 237.30081,  307.38516,  123.15232],\n",
       "        [ 306.69003,  538.383  ,  161.0986 ],\n",
       "        ...,\n",
       "        [ 190.38828,  687.75073,  216.13797],\n",
       "        [ 237.16003,  381.9314 ,  205.42435],\n",
       "        [ 296.00632,  628.6078 ,  195.81226]],\n",
       "\n",
       "       ...,\n",
       "\n",
       "       [[ 493.41083,  249.54584,  479.32376],\n",
       "        [ 193.56863,  203.99065,  147.2173 ],\n",
       "        [ 246.60405,  411.76144,  196.68362],\n",
       "        ...,\n",
       "        [ 181.2766 ,  515.6194 ,  210.92116],\n",
       "        [ 207.12308,  238.31532,  204.4277 ],\n",
       "        [ 252.2342 ,  359.67844,  157.53056]],\n",
       "\n",
       "       [[ 391.97974,  528.35675,  637.44684],\n",
       "        [ 304.2878 ,  281.25232,  140.36598],\n",
       "        [ 361.71436,  223.24219,  183.5304 ],\n",
       "        ...,\n",
       "        [ 297.34265,  277.4887 ,  222.98668],\n",
       "        [ 200.50586,  236.40541,  395.45358],\n",
       "        [ 258.34073,  204.53265,  196.99052]],\n",
       "\n",
       "       [[ 819.0594 ,  341.11685,  213.06592],\n",
       "        [ 442.08682,  531.8763 ,  170.45824],\n",
       "        [ 469.2852 ,  658.74994,  143.64554],\n",
       "        ...,\n",
       "        [ 411.97757,  654.04297,  164.03685],\n",
       "        [ 153.57442,  540.3917 ,  149.20444],\n",
       "        [ 771.8083 ,  397.96252,  308.9496 ]]], dtype=float32)"
      ]
     },
     "execution_count": 21,
     "metadata": {},
     "output_type": "execute_result"
    }
   ],
   "source": [
    "std[..., :3]"
   ]
  },
  {
   "cell_type": "code",
   "execution_count": 5,
   "id": "782a7c4e",
   "metadata": {},
   "outputs": [
    {
     "ename": "ValueError",
     "evalue": "Layer conv1_conv weight shape (64,) is not compatible with provided weight shape (56, 56, 64).",
     "output_type": "error",
     "traceback": [
      "\u001b[0;31m---------------------------------------------------------------------------\u001b[0m",
      "\u001b[0;31mValueError\u001b[0m                                Traceback (most recent call last)",
      "Cell \u001b[0;32mIn[5], line 3\u001b[0m\n\u001b[1;32m      1\u001b[0m \u001b[38;5;28;01mfor\u001b[39;00m l \u001b[38;5;129;01min\u001b[39;00m base_model\u001b[38;5;241m.\u001b[39mlayers:\n\u001b[1;32m      2\u001b[0m     \u001b[38;5;28;01mif\u001b[39;00m \u001b[38;5;28misinstance\u001b[39m(l, SparseConv2D):\n\u001b[0;32m----> 3\u001b[0m         \u001b[43mexpand_layer\u001b[49m\u001b[43m(\u001b[49m\u001b[43ml\u001b[49m\u001b[43m)\u001b[49m\n",
      "File \u001b[0;32m~/sparse-riscv/cifar/utils.py:76\u001b[0m, in \u001b[0;36mexpand_layer\u001b[0;34m(layer)\u001b[0m\n\u001b[1;32m     74\u001b[0m w1, w2 \u001b[38;5;241m=\u001b[39m layer\u001b[38;5;241m.\u001b[39mget_weights()\n\u001b[1;32m     75\u001b[0m w2 \u001b[38;5;241m=\u001b[39m tf\u001b[38;5;241m.\u001b[39mbroadcast_to(tf\u001b[38;5;241m.\u001b[39mreshape(w2, (\u001b[38;5;241m1\u001b[39m, \u001b[38;5;241m1\u001b[39m, \u001b[38;5;241m64\u001b[39m)), (\u001b[38;5;241m56\u001b[39m, \u001b[38;5;241m56\u001b[39m, \u001b[38;5;241m64\u001b[39m))\n\u001b[0;32m---> 76\u001b[0m \u001b[43mlayer\u001b[49m\u001b[38;5;241;43m.\u001b[39;49m\u001b[43mset_weights\u001b[49m\u001b[43m(\u001b[49m\u001b[43m[\u001b[49m\u001b[43mw1\u001b[49m\u001b[43m,\u001b[49m\u001b[43mw2\u001b[49m\u001b[43m]\u001b[49m\u001b[43m)\u001b[49m\n",
      "File \u001b[0;32m~/mambaforge/envs/tf/lib/python3.10/site-packages/keras/engine/base_layer.py:1809\u001b[0m, in \u001b[0;36mLayer.set_weights\u001b[0;34m(self, weights)\u001b[0m\n\u001b[1;32m   1807\u001b[0m ref_shape \u001b[38;5;241m=\u001b[39m param\u001b[38;5;241m.\u001b[39mshape\n\u001b[1;32m   1808\u001b[0m \u001b[38;5;28;01mif\u001b[39;00m \u001b[38;5;129;01mnot\u001b[39;00m ref_shape\u001b[38;5;241m.\u001b[39mis_compatible_with(weight_shape):\n\u001b[0;32m-> 1809\u001b[0m     \u001b[38;5;28;01mraise\u001b[39;00m \u001b[38;5;167;01mValueError\u001b[39;00m(\n\u001b[1;32m   1810\u001b[0m         \u001b[38;5;124mf\u001b[39m\u001b[38;5;124m\"\u001b[39m\u001b[38;5;124mLayer \u001b[39m\u001b[38;5;132;01m{\u001b[39;00m\u001b[38;5;28mself\u001b[39m\u001b[38;5;241m.\u001b[39mname\u001b[38;5;132;01m}\u001b[39;00m\u001b[38;5;124m weight shape \u001b[39m\u001b[38;5;132;01m{\u001b[39;00mref_shape\u001b[38;5;132;01m}\u001b[39;00m\u001b[38;5;124m \u001b[39m\u001b[38;5;124m\"\u001b[39m\n\u001b[1;32m   1811\u001b[0m         \u001b[38;5;124m\"\u001b[39m\u001b[38;5;124mis not compatible with provided weight \u001b[39m\u001b[38;5;124m\"\u001b[39m\n\u001b[1;32m   1812\u001b[0m         \u001b[38;5;124mf\u001b[39m\u001b[38;5;124m\"\u001b[39m\u001b[38;5;124mshape \u001b[39m\u001b[38;5;132;01m{\u001b[39;00mweight_shape\u001b[38;5;132;01m}\u001b[39;00m\u001b[38;5;124m.\u001b[39m\u001b[38;5;124m\"\u001b[39m\n\u001b[1;32m   1813\u001b[0m     )\n\u001b[1;32m   1814\u001b[0m weight_value_tuples\u001b[38;5;241m.\u001b[39mappend((param, weight))\n\u001b[1;32m   1815\u001b[0m weight_index \u001b[38;5;241m+\u001b[39m\u001b[38;5;241m=\u001b[39m \u001b[38;5;241m1\u001b[39m\n",
      "\u001b[0;31mValueError\u001b[0m: Layer conv1_conv weight shape (64,) is not compatible with provided weight shape (56, 56, 64)."
     ]
    }
   ],
   "source": [
    "for l in base_model.layers:\n",
    "    if isinstance(l, SparseConv2D):\n",
    "        expand_layer(l)"
   ]
  },
  {
   "cell_type": "code",
   "execution_count": 42,
   "id": "6754e23d",
   "metadata": {},
   "outputs": [],
   "source": [
    "followed_by_conv2d = [\n",
    "    i\n",
    "    for i in conv_idx\n",
    "    if type(base_model.layers[i]._outbound_nodes[0].outbound_layer)\n",
    "    == keras.layers.Multiply\n",
    "]"
   ]
  },
  {
   "cell_type": "code",
   "execution_count": null,
   "id": "1840171a",
   "metadata": {},
   "outputs": [
    {
     "data": {
      "application/vnd.jupyter.widget-view+json": {
       "model_id": "42ca297796b246d186d319797f59e683",
       "version_major": 2,
       "version_minor": 0
      },
      "text/plain": [
       "  0%|          | 0/3 [00:00<?, ?it/s]"
      ]
     },
     "metadata": {},
     "output_type": "display_data"
    }
   ],
   "source": [
    "xgrid = 3\n",
    "ygrid = 3\n",
    "fig, axs = plt.subplots(xgrid, ygrid, figsize=(16, 16))\n",
    "for x in tqdm(range(xgrid)):\n",
    "    for y in range(ygrid):\n",
    "        m2 = tf.keras.Model(\n",
    "            inputs=base_model.input,\n",
    "            outputs=base_model.layers[biasl[x * ygrid + y]].output,\n",
    "        )\n",
    "        m1 = tf.keras.Model(inputs=model.input, outputs=model.layers[0].output)\n",
    "        m2 = m2(m1.output)\n",
    "        ftr_model = tf.keras.Model(m1.input, m2)\n",
    "        tot = 8\n",
    "        base_sum = tf.zeros(ftr_model.output_shape[1:])\n",
    "        for i, _ in train_ds:\n",
    "            base_sum += tf.reduce_sum(ftr_model(i), axis=0)\n",
    "            tot += 8\n",
    "        sh = base_sum / tot\n",
    "        sh -= np.min(sh)\n",
    "        sh /= np.max(sh)\n",
    "        axs[x, y].matshow(sh)\n",
    "        axs[x, y].axis(\"off\")"
   ]
  },
  {
   "cell_type": "code",
   "execution_count": 15,
   "id": "35e618bd",
   "metadata": {},
   "outputs": [],
   "source": [
    "A = base_sum.numpy()\n",
    "U, s, Vt = np.linalg.svd(A)\n",
    "\n",
    "u = U[:, 0]\n",
    "v = Vt[0, :]\n",
    "\n",
    "uv_outer = np.outer(u, v)"
   ]
  },
  {
   "cell_type": "code",
   "execution_count": 17,
   "id": "8f764707",
   "metadata": {},
   "outputs": [
    {
     "data": {
      "text/plain": [
       "<matplotlib.image.AxesImage at 0x7f61e8593370>"
      ]
     },
     "execution_count": 17,
     "metadata": {},
     "output_type": "execute_result"
    },
    {
     "data": {
      "image/png": "[encoded data removed]",
      "text/plain": [
       "<Figure size 480x480 with 1 Axes>"
      ]
     },
     "metadata": {},
     "output_type": "display_data"
    }
   ],
   "source": [
    "plt.matshow(uv_outer / tot)"
   ]
  },
  {
   "cell_type": "code",
   "execution_count": 18,
   "id": "6432c538",
   "metadata": {},
   "outputs": [
    {
     "data": {
      "text/plain": [
       "array([ True,  True,  True,  True,  True,  True,  True,  True,  True,\n",
       "        True,  True,  True,  True,  True,  True,  True,  True,  True,\n",
       "        True,  True,  True,  True,  True,  True,  True,  True,  True,\n",
       "        True,  True,  True,  True,  True,  True,  True,  True,  True,\n",
       "        True,  True,  True,  True,  True,  True,  True,  True,  True,\n",
       "        True,  True,  True,  True,  True,  True,  True,  True,  True,\n",
       "        True,  True,  True,  True,  True,  True, False, False, False,\n",
       "       False, False, False, False, False, False, False, False, False,\n",
       "       False, False, False, False, False, False, False, False, False,\n",
       "       False, False, False, False, False, False, False, False, False,\n",
       "       False, False, False, False, False, False, False, False, False,\n",
       "       False, False, False, False, False, False, False, False, False,\n",
       "       False, False, False, False, False, False, False, False, False,\n",
       "       False, False, False, False, False, False, False, False, False,\n",
       "       False, False, False, False, False, False, False, False, False,\n",
       "       False, False, False, False, False])"
      ]
     },
     "execution_count": 18,
     "metadata": {},
     "output_type": "execute_result"
    }
   ],
   "source": [
    "is_bias = np.array([base_model.layers[i].use_bias for i in conv_idx])\n",
    "from utils import get_weights\n",
    "\n",
    "asort = np.argsort(get_weights(conv_idx, base_model))\n",
    "is_bias[asort]"
   ]
  },
  {
   "cell_type": "code",
   "execution_count": 21,
   "id": "19cb4daa",
   "metadata": {},
   "outputs": [
    {
     "data": {
      "text/plain": [
       "array([[2, 2],\n",
       "       [1, 1],\n",
       "       [1, 1],\n",
       "       [2, 2],\n",
       "       [1, 1],\n",
       "       [1, 1],\n",
       "       [1, 1],\n",
       "       [1, 1],\n",
       "       [1, 1],\n",
       "       [1, 1],\n",
       "       [1, 1],\n",
       "       [2, 2],\n",
       "       [1, 1],\n",
       "       [1, 1],\n",
       "       [1, 1],\n",
       "       [1, 1],\n",
       "       [1, 1],\n",
       "       [1, 1],\n",
       "       [1, 1],\n",
       "       [1, 1],\n",
       "       [1, 1],\n",
       "       [1, 1],\n",
       "       [1, 1],\n",
       "       [1, 1],\n",
       "       [1, 1],\n",
       "       [1, 1],\n",
       "       [1, 1],\n",
       "       [1, 1],\n",
       "       [1, 1],\n",
       "       [1, 1],\n",
       "       [1, 1],\n",
       "       [1, 1],\n",
       "       [1, 1],\n",
       "       [1, 1],\n",
       "       [1, 1],\n",
       "       [1, 1],\n",
       "       [1, 1],\n",
       "       [1, 1],\n",
       "       [1, 1],\n",
       "       [1, 1],\n",
       "       [1, 1],\n",
       "       [1, 1],\n",
       "       [1, 1],\n",
       "       [1, 1],\n",
       "       [1, 1],\n",
       "       [1, 1],\n",
       "       [1, 1],\n",
       "       [1, 1],\n",
       "       [1, 1],\n",
       "       [1, 1],\n",
       "       [1, 1],\n",
       "       [1, 1],\n",
       "       [1, 1],\n",
       "       [1, 1],\n",
       "       [1, 1],\n",
       "       [1, 1],\n",
       "       [1, 1],\n",
       "       [1, 1],\n",
       "       [1, 1],\n",
       "       [1, 1],\n",
       "       [1, 1],\n",
       "       [1, 1],\n",
       "       [1, 1],\n",
       "       [1, 1],\n",
       "       [1, 1],\n",
       "       [1, 1],\n",
       "       [1, 1],\n",
       "       [1, 1],\n",
       "       [1, 1],\n",
       "       [1, 1],\n",
       "       [1, 1],\n",
       "       [1, 1],\n",
       "       [1, 1],\n",
       "       [1, 1],\n",
       "       [1, 1],\n",
       "       [1, 1],\n",
       "       [1, 1],\n",
       "       [1, 1],\n",
       "       [1, 1],\n",
       "       [1, 1],\n",
       "       [1, 1],\n",
       "       [1, 1],\n",
       "       [1, 1],\n",
       "       [1, 1],\n",
       "       [1, 1],\n",
       "       [1, 1],\n",
       "       [1, 1],\n",
       "       [1, 1],\n",
       "       [1, 1],\n",
       "       [1, 1],\n",
       "       [1, 1],\n",
       "       [1, 1],\n",
       "       [1, 1],\n",
       "       [1, 1],\n",
       "       [1, 1],\n",
       "       [1, 1],\n",
       "       [1, 1],\n",
       "       [1, 1],\n",
       "       [1, 1],\n",
       "       [1, 1],\n",
       "       [1, 1],\n",
       "       [1, 1],\n",
       "       [1, 1],\n",
       "       [1, 1],\n",
       "       [1, 1],\n",
       "       [1, 1],\n",
       "       [1, 1],\n",
       "       [1, 1],\n",
       "       [1, 1],\n",
       "       [1, 1],\n",
       "       [1, 1],\n",
       "       [1, 1],\n",
       "       [1, 1],\n",
       "       [1, 1],\n",
       "       [1, 1],\n",
       "       [1, 1],\n",
       "       [1, 1],\n",
       "       [1, 1],\n",
       "       [1, 1],\n",
       "       [1, 1],\n",
       "       [1, 1],\n",
       "       [1, 1],\n",
       "       [1, 1],\n",
       "       [1, 1],\n",
       "       [1, 1],\n",
       "       [1, 1],\n",
       "       [1, 1],\n",
       "       [1, 1],\n",
       "       [1, 1],\n",
       "       [1, 1],\n",
       "       [1, 1],\n",
       "       [1, 1],\n",
       "       [1, 1],\n",
       "       [1, 1],\n",
       "       [1, 1],\n",
       "       [1, 1],\n",
       "       [1, 1],\n",
       "       [1, 1],\n",
       "       [1, 1],\n",
       "       [1, 1]])"
      ]
     },
     "execution_count": 21,
     "metadata": {},
     "output_type": "execute_result"
    }
   ],
   "source": [
    "np.array([base_model.layers[i].strides for i in conv_idx])"
   ]
  },
  {
   "cell_type": "code",
   "execution_count": 5,
   "id": "d6cda539",
   "metadata": {},
   "outputs": [],
   "source": [
    "def apply_mask(out, mask, weights):\n",
    "    # return out * tf.cast(tf.logical_not(mask), tf.float32) + weights * tf.cast(\n",
    "    #    mask, tf.float32\n",
    "    # )\n",
    "    return out * tf.cast(tf.logical_not(mask), tf.float16)"
   ]
  },
  {
   "cell_type": "code",
   "execution_count": 6,
   "id": "addd7e34",
   "metadata": {},
   "outputs": [],
   "source": [
    "def call_wrapper(func, mask, weights):\n",
    "    def wrapper(*args, **kwargs):\n",
    "        return apply_mask(func(*args, **kwargs), mask, weights)\n",
    "\n",
    "    return wrapper"
   ]
  },
  {
   "cell_type": "code",
   "execution_count": 7,
   "id": "2f42b3cd",
   "metadata": {},
   "outputs": [],
   "source": [
    "def set_const(layer, mask, weights):\n",
    "    if not \"partial\" in layer.name:\n",
    "        layer.default_call = layer.call\n",
    "        layer._name = f\"partial_{layer.name}\"\n",
    "    layer._mask = mask\n",
    "    layer.call = call_wrapper(layer.default_call, layer._mask, weights)"
   ]
  },
  {
   "cell_type": "code",
   "execution_count": 8,
   "id": "f9b0fdbe",
   "metadata": {},
   "outputs": [],
   "source": [
    "def test():\n",
    "    weights = tf.random.uniform(shape=[112, 112, 24], minval=0, maxval=4)\n",
    "    mask = tf.random.uniform(shape=[112, 112, 24], minval=0, maxval=1) > 0.2\n",
    "    set_const(base_model.layers[conv_idx[0]], mask, weights)\n",
    "    random_input = tf.random.uniform(shape=[1, 224, 224, 3])\n",
    "    out1 = base_model.layers[conv_idx[0]].call(random_input)\n",
    "    out2 = base_model.layers[conv_idx[0]].default_call(random_input)\n",
    "    print(tf.reduce_sum(tf.cast(out1 == out2, tf.float32) / (112 * 112 * 24)))"
   ]
  },
  {
   "cell_type": "code",
   "execution_count": 9,
   "id": "20f5f7c6",
   "metadata": {},
   "outputs": [],
   "source": [
    "def get_activations(model):\n",
    "    activations = []\n",
    "    for j, (d, t) in enumerate(test_ds):\n",
    "        if j == 40:\n",
    "            break\n",
    "        activations.append(model(d))\n",
    "    return tf.concat(activations, 0)"
   ]
  },
  {
   "cell_type": "code",
   "execution_count": null,
   "id": "31132fc7",
   "metadata": {},
   "outputs": [
    {
     "data": {
      "application/vnd.jupyter.widget-view+json": {
       "model_id": "842acd462e16421d88dba41ad3032e2b",
       "version_major": 2,
       "version_minor": 0
      },
      "text/plain": [
       "  0%|          | 0/140 [00:00<?, ?it/s]"
      ]
     },
     "metadata": {},
     "output_type": "display_data"
    },
    {
     "name": "stderr",
     "output_type": "stream",
     "text": [
      "2023-02-15 12:35:04.616971: I tensorflow/compiler/xla/stream_executor/cuda/cuda_dnn.cc:428] Loaded cuDNN version 8401\n"
     ]
    },
    {
     "name": "stdout",
     "output_type": "stream",
     "text": [
      "BASELINE: 0.71240\n",
      "Accuracy: 0.57120, threshold: 25.0%\n",
      "Accuracy: 0.70680, threshold: 12.5%\n",
      "Accuracy: 0.71000, threshold: 6.25%\n",
      "Accuracy: 0.71240, threshold: 9.375%\n",
      "Accuracy: 0.71160, threshold: 10.9375%\n",
      "Threshold: 0.00038 (9.375%)\n",
      "BASELINE: 0.71160\n",
      "Accuracy: 0.58000, threshold: 25.0%\n",
      "Accuracy: 0.67260, threshold: 12.5%\n",
      "Accuracy: 0.71000, threshold: 6.25%\n",
      "Accuracy: 0.71100, threshold: 9.375%\n",
      "Accuracy: 0.70740, threshold: 7.8125%\n",
      "Threshold: 0.46216 (6.25%)\n",
      "BASELINE: 0.71100\n",
      "Accuracy: 0.56160, threshold: 25.0%\n",
      "Accuracy: 0.65840, threshold: 12.5%\n",
      "Accuracy: 0.69380, threshold: 6.25%\n",
      "Accuracy: 0.70300, threshold: 3.125%\n",
      "Accuracy: 0.70840, threshold: 1.5625%\n",
      "Threshold: 0.00000 (0%)\n",
      "BASELINE: 0.71100\n",
      "Accuracy: 0.65620, threshold: 25.0%\n",
      "Accuracy: 0.70660, threshold: 12.5%\n",
      "Accuracy: 0.71120, threshold: 18.75%\n",
      "Accuracy: 0.71020, threshold: 21.875%\n",
      "Accuracy: 0.70860, threshold: 20.3125%\n",
      "Threshold: 7.81250 (18.75%)\n",
      "BASELINE: 0.71020\n",
      "Accuracy: 0.59780, threshold: 25.0%\n",
      "Accuracy: 0.69520, threshold: 12.5%\n",
      "Accuracy: 0.70480, threshold: 6.25%\n",
      "Accuracy: 0.70900, threshold: 3.125%\n",
      "Accuracy: 0.71140, threshold: 4.6875%\n",
      "Threshold: 8.37500 (3.125%)\n",
      "BASELINE: 0.71140\n",
      "Accuracy: 0.69940, threshold: 25.0%\n",
      "Accuracy: 0.70640, threshold: 12.5%\n",
      "Accuracy: 0.71360, threshold: 18.75%\n",
      "Accuracy: 0.70960, threshold: 15.625%\n",
      "Accuracy: 0.71160, threshold: 14.0625%\n",
      "Threshold: 39.56250 (12.5%)\n",
      "BASELINE: 0.71360\n",
      "Accuracy: 0.71000, threshold: 25.0%\n",
      "Accuracy: 0.70860, threshold: 12.5%\n",
      "Accuracy: 0.70800, threshold: 6.25%\n",
      "Accuracy: 0.71140, threshold: 3.125%\n",
      "Accuracy: 0.71280, threshold: 4.6875%\n",
      "Threshold: 0.24231 (3.125%)\n",
      "BASELINE: 0.71280\n",
      "Accuracy: 0.70940, threshold: 25.0%\n",
      "Accuracy: 0.71140, threshold: 12.5%\n",
      "Accuracy: 0.71100, threshold: 6.25%\n",
      "Accuracy: 0.71220, threshold: 9.375%\n",
      "Accuracy: 0.71200, threshold: 10.9375%\n",
      "Threshold: 38.18750 (9.375%)\n",
      "BASELINE: 0.71200\n",
      "Accuracy: 0.70340, threshold: 25.0%\n",
      "Accuracy: 0.71160, threshold: 37.5%\n",
      "Accuracy: 0.70860, threshold: 31.25%\n",
      "Accuracy: 0.70900, threshold: 28.125%\n",
      "Accuracy: 0.70980, threshold: 26.5625%\n",
      "Threshold: 0.19360 (25.0%)\n",
      "BASELINE: 0.71160\n",
      "Accuracy: 0.70620, threshold: 25.0%\n",
      "Accuracy: 0.70880, threshold: 12.5%\n",
      "Accuracy: 0.70960, threshold: 6.25%\n",
      "Accuracy: 0.71180, threshold: 9.375%\n",
      "Accuracy: 0.71060, threshold: 7.8125%\n",
      "Threshold: 37.87500 (6.25%)\n",
      "BASELINE: 0.71180\n",
      "Accuracy: 0.67940, threshold: 25.0%\n",
      "Accuracy: 0.70220, threshold: 12.5%\n",
      "Accuracy: 0.70620, threshold: 6.25%\n",
      "Accuracy: 0.70960, threshold: 3.125%\n",
      "Accuracy: 0.71100, threshold: 4.6875%\n",
      "Threshold: 0.04807 (3.125%)\n",
      "BASELINE: 0.71100\n",
      "Accuracy: 0.55320, threshold: 25.0%\n",
      "Accuracy: 0.68160, threshold: 12.5%\n",
      "Accuracy: 0.70300, threshold: 6.25%\n",
      "Accuracy: 0.70940, threshold: 3.125%\n",
      "Accuracy: 0.70940, threshold: 1.5625%\n",
      "Threshold: 0.00000 (0%)\n",
      "BASELINE: 0.71100\n",
      "Accuracy: 0.35360, threshold: 25.0%\n",
      "Accuracy: 0.63600, threshold: 12.5%\n",
      "Accuracy: 0.69440, threshold: 6.25%\n",
      "Accuracy: 0.69980, threshold: 3.125%\n",
      "Accuracy: 0.70560, threshold: 1.5625%\n",
      "Threshold: 0.00000 (0%)\n",
      "BASELINE: 0.71100\n",
      "Accuracy: 0.70300, threshold: 25.0%\n",
      "Accuracy: 0.70800, threshold: 12.5%\n",
      "Accuracy: 0.71040, threshold: 18.75%\n",
      "Accuracy: 0.70860, threshold: 15.625%\n",
      "Accuracy: 0.71040, threshold: 17.1875%\n",
      "Threshold: 59.65625 (15.625%)\n",
      "BASELINE: 0.71040\n",
      "Accuracy: 0.69720, threshold: 25.0%\n",
      "Accuracy: 0.70240, threshold: 12.5%\n",
      "Accuracy: 0.70560, threshold: 6.25%\n",
      "Accuracy: 0.70740, threshold: 3.125%\n",
      "Accuracy: 0.71140, threshold: 4.6875%\n",
      "Threshold: 0.07758 (3.125%)\n",
      "BASELINE: 0.71140\n",
      "Accuracy: 0.69180, threshold: 25.0%\n",
      "Accuracy: 0.70180, threshold: 12.5%\n",
      "Accuracy: 0.70700, threshold: 6.25%\n",
      "Accuracy: 0.70980, threshold: 3.125%\n",
      "Accuracy: 0.70980, threshold: 1.5625%\n",
      "Threshold: 0.00000 (0%)\n",
      "BASELINE: 0.71140\n",
      "Accuracy: 0.69760, threshold: 25.0%\n",
      "Accuracy: 0.70600, threshold: 12.5%\n",
      "Accuracy: 0.70680, threshold: 6.25%\n",
      "Accuracy: 0.70960, threshold: 3.125%\n",
      "Accuracy: 0.71020, threshold: 1.5625%\n",
      "Threshold: 0.00000 (0%)\n",
      "BASELINE: 0.71140\n",
      "Accuracy: 0.70220, threshold: 25.0%\n",
      "Accuracy: 0.70220, threshold: 12.5%\n",
      "Accuracy: 0.70800, threshold: 6.25%\n",
      "Accuracy: 0.70860, threshold: 3.125%\n",
      "Accuracy: 0.70980, threshold: 1.5625%\n",
      "Threshold: 0.00000 (0%)\n",
      "BASELINE: 0.71140\n",
      "Accuracy: 0.69960, threshold: 25.0%\n",
      "Accuracy: 0.70600, threshold: 12.5%\n",
      "Accuracy: 0.70920, threshold: 6.25%\n",
      "Accuracy: 0.71160, threshold: 9.375%\n",
      "Accuracy: 0.71020, threshold: 7.8125%\n",
      "Threshold: 0.03558 (6.25%)\n",
      "BASELINE: 0.71160\n",
      "Accuracy: 0.52100, threshold: 25.0%\n",
      "Accuracy: 0.69060, threshold: 12.5%\n",
      "Accuracy: 0.70820, threshold: 6.25%\n",
      "Accuracy: 0.71100, threshold: 9.375%\n",
      "Accuracy: 0.71060, threshold: 10.9375%\n",
      "Threshold: 24.67188 (9.375%)\n",
      "BASELINE: 0.71060\n",
      "Accuracy: 0.71060, threshold: 75.0%\n",
      "Accuracy: 0.71160, threshold: 87.5%\n",
      "Accuracy: 0.71120, threshold: 93.75%\n",
      "Accuracy: 0.71020, threshold: 90.625%\n",
      "Accuracy: 0.71020, threshold: 89.0625%\n",
      "Threshold: 25.59375 (87.5%)\n",
      "BASELINE: 0.71120\n",
      "Accuracy: 0.23300, threshold: 25.0%\n",
      "Accuracy: 0.68020, threshold: 12.5%\n",
      "Accuracy: 0.70480, threshold: 6.25%\n",
      "Accuracy: 0.71040, threshold: 9.375%\n",
      "Accuracy: 0.70700, threshold: 7.8125%\n",
      "Threshold: 0.77637 (6.25%)\n",
      "BASELINE: 0.71040\n",
      "Accuracy: 0.39660, threshold: 25.0%\n",
      "Accuracy: 0.67520, threshold: 12.5%\n",
      "Accuracy: 0.69960, threshold: 6.25%\n",
      "Accuracy: 0.70880, threshold: 3.125%\n",
      "Accuracy: 0.71080, threshold: 4.6875%\n",
      "Threshold: 4.01953 (3.125%)\n",
      "BASELINE: 0.71080\n",
      "Accuracy: 0.70380, threshold: 25.0%\n",
      "Accuracy: 0.70760, threshold: 12.5%\n",
      "Accuracy: 0.71080, threshold: 18.75%\n",
      "Accuracy: 0.70820, threshold: 15.625%\n",
      "Accuracy: 0.70980, threshold: 17.1875%\n",
      "Threshold: 11.12500 (15.625%)\n",
      "BASELINE: 0.70980\n",
      "Accuracy: 0.70720, threshold: 25.0%\n",
      "Accuracy: 0.70820, threshold: 12.5%\n",
      "Accuracy: 0.70940, threshold: 18.75%\n",
      "Accuracy: 0.70980, threshold: 21.875%\n",
      "Accuracy: 0.70940, threshold: 23.4375%\n",
      "Threshold: 0.58496 (21.875%)\n",
      "BASELINE: 0.70940\n",
      "Accuracy: 0.70380, threshold: 25.0%\n",
      "Accuracy: 0.70800, threshold: 12.5%\n",
      "Accuracy: 0.70920, threshold: 18.75%\n",
      "Accuracy: 0.70860, threshold: 21.875%\n",
      "Accuracy: 0.70760, threshold: 20.3125%\n",
      "Threshold: 0.00677 (18.75%)\n",
      "BASELINE: 0.70860\n",
      "Accuracy: 0.70760, threshold: 75.0%\n",
      "Accuracy: 0.70560, threshold: 62.5%\n",
      "Accuracy: 0.70700, threshold: 56.25%\n",
      "Accuracy: 0.70900, threshold: 59.375%\n",
      "Accuracy: 0.70780, threshold: 57.8125%\n",
      "Threshold: 0.21741 (56.25%)\n",
      "BASELINE: 0.70900\n",
      "Accuracy: 0.70080, threshold: 25.0%\n",
      "Accuracy: 0.70640, threshold: 12.5%\n",
      "Accuracy: 0.70860, threshold: 18.75%\n",
      "Accuracy: 0.70760, threshold: 15.625%\n",
      "Accuracy: 0.70820, threshold: 17.1875%\n",
      "Threshold: 10.00000 (15.625%)\n",
      "BASELINE: 0.70820\n",
      "Accuracy: 0.70740, threshold: 75.0%\n",
      "Accuracy: 0.70200, threshold: 62.5%\n",
      "Accuracy: 0.70620, threshold: 56.25%\n",
      "Accuracy: 0.70760, threshold: 59.375%\n",
      "Accuracy: 0.70940, threshold: 60.9375%\n",
      "Threshold: 6.29688 (59.375%)\n",
      "BASELINE: 0.70940\n",
      "Accuracy: 0.70480, threshold: 25.0%\n",
      "Accuracy: 0.70460, threshold: 12.5%\n",
      "Accuracy: 0.70820, threshold: 6.25%\n",
      "Accuracy: 0.70920, threshold: 9.375%\n",
      "Accuracy: 0.70880, threshold: 10.9375%\n",
      "Threshold: 0.00819 (9.375%)\n",
      "BASELINE: 0.70880\n",
      "Accuracy: 0.71060, threshold: 75.0%\n",
      "Accuracy: 0.70940, threshold: 62.5%\n",
      "Accuracy: 0.71260, threshold: 68.75%\n",
      "Accuracy: 0.70960, threshold: 65.625%\n",
      "Accuracy: 0.71120, threshold: 64.0625%\n",
      "Threshold: 0.12195 (62.5%)\n",
      "BASELINE: 0.71260\n",
      "Accuracy: 0.70200, threshold: 25.0%\n",
      "Accuracy: 0.70960, threshold: 12.5%\n",
      "Accuracy: 0.70840, threshold: 6.25%\n",
      "Accuracy: 0.70840, threshold: 3.125%\n",
      "Accuracy: 0.71100, threshold: 1.5625%\n",
      "Threshold: 0.00000 (0%)\n",
      "BASELINE: 0.71260\n",
      "Accuracy: 0.70380, threshold: 25.0%\n",
      "Accuracy: 0.71100, threshold: 12.5%\n",
      "Accuracy: 0.71220, threshold: 18.75%\n",
      "Accuracy: 0.71120, threshold: 15.625%\n",
      "Accuracy: 0.71160, threshold: 17.1875%\n",
      "Threshold: 0.25195 (15.625%)\n",
      "BASELINE: 0.71160\n",
      "Accuracy: 0.70720, threshold: 25.0%\n",
      "Accuracy: 0.70820, threshold: 12.5%\n",
      "Accuracy: 0.71100, threshold: 18.75%\n",
      "Accuracy: 0.71100, threshold: 21.875%\n",
      "Accuracy: 0.71020, threshold: 20.3125%\n",
      "Threshold: 0.04657 (18.75%)\n",
      "BASELINE: 0.71100\n",
      "Accuracy: 0.71240, threshold: 75.0%\n",
      "Accuracy: 0.70760, threshold: 62.5%\n",
      "Accuracy: 0.70980, threshold: 56.25%\n",
      "Accuracy: 0.71260, threshold: 59.375%\n",
      "Accuracy: 0.71120, threshold: 57.8125%\n",
      "Threshold: 0.19055 (56.25%)\n",
      "BASELINE: 0.71260\n",
      "Accuracy: 0.70620, threshold: 25.0%\n",
      "Accuracy: 0.70860, threshold: 12.5%\n",
      "Accuracy: 0.70840, threshold: 6.25%\n",
      "Accuracy: 0.71040, threshold: 3.125%\n"
     ]
    },
    {
     "name": "stdout",
     "output_type": "stream",
     "text": [
      "Accuracy: 0.71200, threshold: 4.6875%\n",
      "Threshold: 6.71875 (3.125%)\n",
      "BASELINE: 0.71200\n",
      "Accuracy: 0.70700, threshold: 25.0%\n",
      "Accuracy: 0.71240, threshold: 37.5%\n",
      "Accuracy: 0.70980, threshold: 31.25%\n",
      "Accuracy: 0.71140, threshold: 28.125%\n",
      "Accuracy: 0.71240, threshold: 29.6875%\n",
      "Threshold: 1.17676 (28.125%)\n",
      "BASELINE: 0.71240\n",
      "Accuracy: 0.70300, threshold: 25.0%\n",
      "Accuracy: 0.71020, threshold: 12.5%\n",
      "Accuracy: 0.71240, threshold: 18.75%\n",
      "Accuracy: 0.70940, threshold: 15.625%\n",
      "Accuracy: 0.71040, threshold: 14.0625%\n",
      "Threshold: 0.00342 (12.5%)\n",
      "BASELINE: 0.71240\n",
      "Accuracy: 0.71160, threshold: 75.0%\n",
      "Accuracy: 0.71020, threshold: 62.5%\n",
      "Accuracy: 0.71220, threshold: 68.75%\n",
      "Accuracy: 0.71000, threshold: 65.625%\n",
      "Accuracy: 0.71220, threshold: 67.1875%\n",
      "Threshold: 0.06604 (65.625%)\n",
      "BASELINE: 0.71220\n",
      "Accuracy: 0.70700, threshold: 25.0%\n",
      "Accuracy: 0.71020, threshold: 12.5%\n",
      "Accuracy: 0.71040, threshold: 6.25%\n",
      "Accuracy: 0.71180, threshold: 9.375%\n",
      "Accuracy: 0.71200, threshold: 10.9375%\n",
      "Threshold: 10.35156 (9.375%)\n",
      "BASELINE: 0.71200\n",
      "Accuracy: 0.70820, threshold: 25.0%\n",
      "Accuracy: 0.71080, threshold: 12.5%\n",
      "Accuracy: 0.71240, threshold: 18.75%\n",
      "Accuracy: 0.71220, threshold: 21.875%\n",
      "Accuracy: 0.71160, threshold: 23.4375%\n",
      "Threshold: 0.77100 (21.875%)\n",
      "BASELINE: 0.71160\n",
      "Accuracy: 0.70520, threshold: 25.0%\n",
      "Accuracy: 0.70800, threshold: 12.5%\n",
      "Accuracy: 0.71100, threshold: 18.75%\n",
      "Accuracy: 0.70740, threshold: 15.625%\n",
      "Accuracy: 0.70820, threshold: 14.0625%\n",
      "Threshold: 0.01094 (12.5%)\n",
      "BASELINE: 0.71100\n",
      "Accuracy: 0.70960, threshold: 25.0%\n",
      "Accuracy: 0.70940, threshold: 12.5%\n",
      "Accuracy: 0.71060, threshold: 18.75%\n",
      "Accuracy: 0.71140, threshold: 21.875%\n",
      "Accuracy: 0.71040, threshold: 23.4375%\n",
      "Threshold: 0.03903 (21.875%)\n",
      "BASELINE: 0.71040\n",
      "Accuracy: 0.45440, threshold: 25.0%\n",
      "Accuracy: 0.66660, threshold: 12.5%\n",
      "Accuracy: 0.69720, threshold: 6.25%\n",
      "Accuracy: 0.70660, threshold: 3.125%\n",
      "Accuracy: 0.70780, threshold: 1.5625%\n",
      "Threshold: 0.00000 (0%)\n",
      "BASELINE: 0.71040\n",
      "Accuracy: 0.71180, threshold: 75.0%\n",
      "Accuracy: 0.70340, threshold: 62.5%\n",
      "Accuracy: 0.71100, threshold: 68.75%\n",
      "Accuracy: 0.70780, threshold: 65.625%\n",
      "Accuracy: 0.71160, threshold: 67.1875%\n",
      "Threshold: 3.81250 (65.625%)\n",
      "BASELINE: 0.71160\n",
      "Accuracy: 0.58340, threshold: 25.0%\n",
      "Accuracy: 0.67740, threshold: 12.5%\n",
      "Accuracy: 0.70980, threshold: 6.25%\n",
      "Accuracy: 0.71120, threshold: 9.375%\n",
      "Accuracy: 0.71040, threshold: 7.8125%\n",
      "Threshold: 0.01723 (6.25%)\n",
      "BASELINE: 0.71120\n",
      "Accuracy: 0.61280, threshold: 25.0%\n",
      "Accuracy: 0.68200, threshold: 12.5%\n",
      "Accuracy: 0.69820, threshold: 6.25%\n",
      "Accuracy: 0.70520, threshold: 3.125%\n",
      "Accuracy: 0.70960, threshold: 1.5625%\n",
      "Threshold: 0.00000 (0%)\n",
      "BASELINE: 0.71120\n",
      "Accuracy: 0.69600, threshold: 25.0%\n",
      "Accuracy: 0.70200, threshold: 12.5%\n",
      "Accuracy: 0.70800, threshold: 6.25%\n",
      "Accuracy: 0.71080, threshold: 9.375%\n",
      "Accuracy: 0.70900, threshold: 7.8125%\n",
      "Threshold: 7.14453 (6.25%)\n",
      "BASELINE: 0.71080\n",
      "Accuracy: 0.70900, threshold: 25.0%\n",
      "Accuracy: 0.71200, threshold: 37.5%\n",
      "Accuracy: 0.70840, threshold: 31.25%\n",
      "Accuracy: 0.70960, threshold: 28.125%\n",
      "Accuracy: 0.71080, threshold: 26.5625%\n",
      "Threshold: 0.97754 (25.0%)\n",
      "BASELINE: 0.71200\n",
      "Accuracy: 0.70480, threshold: 25.0%\n",
      "Accuracy: 0.70580, threshold: 12.5%\n",
      "Accuracy: 0.70940, threshold: 6.25%\n",
      "Accuracy: 0.71160, threshold: 9.375%\n",
      "Accuracy: 0.71080, threshold: 7.8125%\n",
      "Threshold: 0.01254 (6.25%)\n",
      "BASELINE: 0.71160\n",
      "Accuracy: 0.71060, threshold: 75.0%\n",
      "Accuracy: 0.70320, threshold: 62.5%\n",
      "Accuracy: 0.70460, threshold: 56.25%\n",
      "Accuracy: 0.70880, threshold: 53.125%\n",
      "Accuracy: 0.71100, threshold: 54.6875%\n",
      "Threshold: 0.21899 (53.125%)\n",
      "BASELINE: 0.71100\n",
      "Accuracy: 0.69340, threshold: 25.0%\n",
      "Accuracy: 0.70360, threshold: 12.5%\n",
      "Accuracy: 0.70940, threshold: 6.25%\n",
      "Accuracy: 0.70900, threshold: 3.125%\n",
      "Accuracy: 0.70940, threshold: 1.5625%\n",
      "Threshold: 0.00000 (0%)\n",
      "BASELINE: 0.71100\n",
      "Accuracy: 0.70620, threshold: 25.0%\n",
      "Accuracy: 0.70920, threshold: 12.5%\n",
      "Accuracy: 0.71060, threshold: 18.75%\n",
      "Accuracy: 0.70880, threshold: 15.625%\n",
      "Accuracy: 0.71000, threshold: 14.0625%\n",
      "Threshold: 1.37109 (12.5%)\n",
      "BASELINE: 0.71060\n",
      "Accuracy: 0.69860, threshold: 25.0%\n",
      "Accuracy: 0.70900, threshold: 12.5%\n",
      "Accuracy: 0.70780, threshold: 6.25%\n",
      "Accuracy: 0.70900, threshold: 3.125%\n",
      "Accuracy: 0.71080, threshold: 4.6875%\n",
      "Threshold: 0.00349 (3.125%)\n",
      "BASELINE: 0.71080\n",
      "Accuracy: 0.70320, threshold: 25.0%\n",
      "Accuracy: 0.70740, threshold: 12.5%\n",
      "Accuracy: 0.70880, threshold: 6.25%\n",
      "Accuracy: 0.70980, threshold: 9.375%\n",
      "Accuracy: 0.70840, threshold: 7.8125%\n",
      "Threshold: 0.09924 (6.25%)\n",
      "BASELINE: 0.70980\n",
      "Accuracy: 0.69620, threshold: 25.0%\n",
      "Accuracy: 0.70440, threshold: 12.5%\n",
      "Accuracy: 0.70840, threshold: 6.25%\n",
      "Accuracy: 0.70840, threshold: 3.125%\n",
      "Accuracy: 0.70980, threshold: 4.6875%\n",
      "Threshold: 7.17188 (3.125%)\n",
      "BASELINE: 0.70980\n",
      "Accuracy: 0.70920, threshold: 75.0%\n",
      "Accuracy: 0.71020, threshold: 87.5%\n",
      "Accuracy: 0.70440, threshold: 81.25%\n",
      "Accuracy: 0.70300, threshold: 78.125%\n",
      "Accuracy: 0.70680, threshold: 76.5625%\n",
      "Threshold: 5.17578 (75.0%)\n",
      "BASELINE: 0.71020\n",
      "Accuracy: 0.69640, threshold: 25.0%\n",
      "Accuracy: 0.70140, threshold: 12.5%\n",
      "Accuracy: 0.70500, threshold: 6.25%\n",
      "Accuracy: 0.70900, threshold: 3.125%\n",
      "Accuracy: 0.70880, threshold: 1.5625%\n",
      "Threshold: 0.00000 (0%)\n",
      "BASELINE: 0.71020\n",
      "Accuracy: 0.70840, threshold: 25.0%\n",
      "Accuracy: 0.70820, threshold: 12.5%\n",
      "Accuracy: 0.70900, threshold: 6.25%\n",
      "Accuracy: 0.70820, threshold: 3.125%\n",
      "Accuracy: 0.70860, threshold: 1.5625%\n",
      "Threshold: 0.00000 (0%)\n",
      "BASELINE: 0.71020\n",
      "Accuracy: 0.70280, threshold: 25.0%\n",
      "Accuracy: 0.70640, threshold: 12.5%\n",
      "Accuracy: 0.70680, threshold: 6.25%\n",
      "Accuracy: 0.70740, threshold: 3.125%\n",
      "Accuracy: 0.70760, threshold: 1.5625%\n",
      "Threshold: 0.00000 (0%)\n",
      "BASELINE: 0.71020\n",
      "Accuracy: 0.70500, threshold: 25.0%\n",
      "Accuracy: 0.70420, threshold: 12.5%\n",
      "Accuracy: 0.70640, threshold: 6.25%\n",
      "Accuracy: 0.70980, threshold: 9.375%\n",
      "Accuracy: 0.70740, threshold: 7.8125%\n",
      "Threshold: 2.03125 (6.25%)\n",
      "BASELINE: 0.70980\n",
      "Accuracy: 0.70560, threshold: 25.0%\n",
      "Accuracy: 0.71040, threshold: 37.5%\n",
      "Accuracy: 0.70460, threshold: 31.25%\n",
      "Accuracy: 0.70520, threshold: 28.125%\n",
      "Accuracy: 0.70720, threshold: 26.5625%\n",
      "Threshold: 0.08942 (25.0%)\n",
      "BASELINE: 0.71040\n",
      "Accuracy: 0.71100, threshold: 75.0%\n",
      "Accuracy: 0.70860, threshold: 62.5%\n",
      "Accuracy: 0.70900, threshold: 56.25%\n",
      "Accuracy: 0.71060, threshold: 59.375%\n",
      "Accuracy: 0.71020, threshold: 60.9375%\n",
      "Threshold: 0.12744 (59.375%)\n",
      "BASELINE: 0.71020\n",
      "Accuracy: 0.69700, threshold: 25.0%\n",
      "Accuracy: 0.70440, threshold: 12.5%\n",
      "Accuracy: 0.71000, threshold: 18.75%\n",
      "Accuracy: 0.70940, threshold: 21.875%\n",
      "Accuracy: 0.70580, threshold: 20.3125%\n",
      "Threshold: 13.66406 (18.75%)\n",
      "BASELINE: 0.70940\n",
      "Accuracy: 0.69620, threshold: 25.0%\n",
      "Accuracy: 0.70080, threshold: 12.5%\n",
      "Accuracy: 0.70580, threshold: 6.25%\n",
      "Accuracy: 0.70800, threshold: 3.125%\n",
      "Accuracy: 0.70840, threshold: 4.6875%\n",
      "Threshold: 1.12598 (3.125%)\n",
      "BASELINE: 0.70840\n",
      "Accuracy: 0.69220, threshold: 25.0%\n",
      "Accuracy: 0.69720, threshold: 12.5%\n",
      "Accuracy: 0.70460, threshold: 6.25%\n",
      "Accuracy: 0.70700, threshold: 3.125%\n",
      "Accuracy: 0.70820, threshold: 4.6875%\n",
      "Threshold: 0.00232 (3.125%)\n",
      "BASELINE: 0.70820\n",
      "Accuracy: 0.70080, threshold: 25.0%\n",
      "Accuracy: 0.70600, threshold: 12.5%\n",
      "Accuracy: 0.70740, threshold: 18.75%\n",
      "Accuracy: 0.70620, threshold: 15.625%\n",
      "Accuracy: 0.70580, threshold: 14.0625%\n",
      "Threshold: 0.06311 (12.5%)\n",
      "BASELINE: 0.70740\n",
      "Accuracy: 0.70000, threshold: 25.0%\n"
     ]
    }
   ],
   "source": [
    "for i in tqdm(conv_idx):\n",
    "    m = tf.keras.Model(inputs=base_model.input, outputs=base_model.layers[i].output)\n",
    "    activations = get_activations(m)\n",
    "    stds = tf.math.reduce_mean(activations**2, 0)\n",
    "    means = tf.math.reduce_mean(activations, 0)\n",
    "    t_min, t_cur, t_max = 0, 50, 100\n",
    "    model.compile(loss=\"categorical_crossentropy\", metrics=[\"accuracy\"])\n",
    "    base_accuracy = model.evaluate(test_ds, verbose=0)[1]\n",
    "    min_cutoff = 0.0\n",
    "    print(f\"BASELINE: {base_accuracy:.5f}\")\n",
    "    while t_max - t_min > 100 / 2**5:\n",
    "        cutoff = tfp.stats.percentile(stds, t_cur)\n",
    "        set_const(base_model.layers[i], stds < cutoff, means)\n",
    "        model.compile(loss=\"categorical_crossentropy\", metrics=[\"accuracy\"])\n",
    "        out_accuracy = model.evaluate(test_ds, verbose=0)[1]\n",
    "        if out_accuracy >= base_accuracy - 1e-3:\n",
    "            t_min = t_cur\n",
    "            min_cutoff = cutoff\n",
    "            if out_accuracy > base_accuracy:\n",
    "                base_accuracy = out_accuracy\n",
    "        else:\n",
    "            t_max = t_cur\n",
    "        t_cur = (t_max - t_min) / 2 + t_min\n",
    "        print(f\"Accuracy: {out_accuracy:.5f}, threshold: {t_cur}%\")\n",
    "    print(f\"Threshold: {min_cutoff:.5f} ({t_min}%)\")\n",
    "    set_const(base_model.layers[i], stds < min_cutoff, means)"
   ]
  },
  {
   "cell_type": "code",
   "execution_count": null,
   "id": "d9f5ba8d",
   "metadata": {},
   "outputs": [],
   "source": [
    "for i in tqdm(conv_idx):\n",
    "    m = tf.keras.Model(inputs=base_model.input, outputs=base_model.layers[i].output)\n",
    "    activations = get_activations(m)\n",
    "    stds = tf.math.reduce_std(activations, 0)\n",
    "    means = tf.math.reduce_mean(activations, 0)\n",
    "    t_min, t_cur, t_max = 0, 50, 100\n",
    "    model.compile(loss=\"categorical_crossentropy\", metrics=[\"accuracy\"])\n",
    "    base_accuracy = model.evaluate(test_ds, verbose=0)[1]\n",
    "    min_cutoff = 0.0\n",
    "    print(f\"BASELINE: {base_accuracy:.5f}\")\n",
    "    while t_max - t_min > 100 / 2**5:\n",
    "        cutoff = tfp.stats.percentile(stds, t_cur)\n",
    "        set_const(base_model.layers[i], stds < cutoff, means)\n",
    "        model.compile(loss=\"categorical_crossentropy\", metrics=[\"accuracy\"])\n",
    "        out_accuracy = model.evaluate(test_ds, verbose=0)[1]\n",
    "        if out_accuracy >= base_accuracy - 1e-3:\n",
    "            t_min = t_cur\n",
    "            min_cutoff = cutoff\n",
    "            if out_accuracy > base_accuracy:\n",
    "                base_accuracy = out_accuracy\n",
    "        else:\n",
    "            t_max = t_cur\n",
    "        t_cur = (t_max - t_min) / 2 + t_min\n",
    "        print(f\"Accuracy: {out_accuracy:.5f}, threshold: {t_cur}%\")\n",
    "    print(f\"Threshold: {min_cutoff:.5f} ({t_min}%)\")\n",
    "    set_const(base_model.layers[i], stds < min_cutoff, means)"
   ]
  },
  {
   "cell_type": "code",
   "execution_count": null,
   "id": "7414d69a",
   "metadata": {},
   "outputs": [],
   "source": []
  },
  {
   "cell_type": "code",
   "execution_count": null,
   "id": "9483704f",
   "metadata": {},
   "outputs": [],
   "source": []
  }
 ],
 "metadata": {
  "kernelspec": {
   "display_name": "Python 3 (ipykernel)",
   "language": "python",
   "name": "python3"
  },
  "language_info": {
   "codemirror_mode": {
    "name": "ipython",
    "version": 3
   },
   "file_extension": ".py",
   "mimetype": "text/x-python",
   "name": "python",
   "nbconvert_exporter": "python",
   "pygments_lexer": "ipython3",
   "version": "3.10.9"
  }
 },
 "nbformat": 4,
 "nbformat_minor": 5
}
